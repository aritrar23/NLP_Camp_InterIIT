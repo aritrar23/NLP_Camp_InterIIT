{
  "cells": [
    {
      "cell_type": "markdown",
      "metadata": {
        "id": "x8Xe7OHCQ4LC"
      },
      "source": [
        "# Advanced Retrieval RAG chatbot on Bharatiya Nyaya Sanhita"
      ]
    },
    {
      "cell_type": "markdown",
      "metadata": {
        "id": "NUotdypoUZYm"
      },
      "source": [
        "## Setting up the environment"
      ]
    },
    {
      "cell_type": "code",
      "execution_count": null,
      "metadata": {
        "collapsed": true,
        "id": "MSgfbC41P85f"
      },
      "outputs": [],
      "source": [
        "!pip install pypdf"
      ]
    },
    {
      "cell_type": "code",
      "execution_count": null,
      "metadata": {
        "id": "aS0C5sx6QniF"
      },
      "outputs": [],
      "source": [
        "!pip install langchain==0.0.174"
      ]
    },
    {
      "cell_type": "code",
      "source": [
        "!pip install langchain-chroma"
      ],
      "metadata": {
        "id": "6w37fbtPIRmK"
      },
      "execution_count": null,
      "outputs": []
    },
    {
      "cell_type": "code",
      "execution_count": null,
      "metadata": {
        "id": "OYm3yq93VnBn"
      },
      "outputs": [],
      "source": [
        "!pip install langchain-community"
      ]
    },
    {
      "cell_type": "code",
      "execution_count": null,
      "metadata": {
        "id": "M5KI0Ep8R7IX"
      },
      "outputs": [],
      "source": [
        "!pip install sentence-transformers"
      ]
    },
    {
      "cell_type": "code",
      "execution_count": null,
      "metadata": {
        "id": "enioyiTJSWgr"
      },
      "outputs": [],
      "source": [
        "!pip install chromadb"
      ]
    },
    {
      "cell_type": "code",
      "execution_count": null,
      "metadata": {
        "id": "G3DMrpqtUBfs"
      },
      "outputs": [],
      "source": [
        "!curl https://ollama.ai/install.sh | sh"
      ]
    },
    {
      "cell_type": "code",
      "execution_count": null,
      "metadata": {
        "id": "jyTb8ccsUI-C"
      },
      "outputs": [],
      "source": [
        "!neofetch"
      ]
    },
    {
      "cell_type": "code",
      "source": [
        "!pip install -qU langchain-huggingface"
      ],
      "metadata": {
        "id": "TfRyhUZYuR5H"
      },
      "execution_count": 8,
      "outputs": []
    },
    {
      "cell_type": "code",
      "execution_count": 9,
      "metadata": {
        "colab": {
          "base_uri": "https://localhost:8080/"
        },
        "id": "wMxLZF75URoi",
        "outputId": "887f6f4b-91d5-42e7-97cb-09dafbc1ce5c"
      },
      "outputs": [
        {
          "output_type": "stream",
          "name": "stdout",
          "text": [
            "Process ID: 5953\n"
          ]
        }
      ],
      "source": [
        "import subprocess\n",
        "import time\n",
        "\n",
        "# Start ollama as a backrgound process\n",
        "command = \"nohup ollama serve&\"\n",
        "\n",
        "# Use subprocess.Popen to start the process in the background\n",
        "process = subprocess.Popen(command,\n",
        "                            shell=True,\n",
        "                           stdout=subprocess.PIPE,\n",
        "                           stderr=subprocess.PIPE)\n",
        "print(\"Process ID:\", process.pid)\n",
        "# Let's use fly.io resources\n",
        "#!OLLAMA_HOST=https://ollama-demo.fly.dev:443\n",
        "time.sleep(5)  # Makes Python wait for 5 seconds"
      ]
    },
    {
      "cell_type": "code",
      "execution_count": 10,
      "metadata": {
        "colab": {
          "base_uri": "https://localhost:8080/"
        },
        "id": "poltiYSCUWzv",
        "outputId": "334890f3-9a51-4bf5-c015-750153fe92bf"
      },
      "outputs": [
        {
          "output_type": "stream",
          "name": "stdout",
          "text": [
            "ollama version is 0.3.8\n"
          ]
        }
      ],
      "source": [
        "!ollama -v\n"
      ]
    },
    {
      "cell_type": "code",
      "execution_count": null,
      "metadata": {
        "id": "hRmrOyIWUkKm"
      },
      "outputs": [],
      "source": [
        "!ollama pull llama3"
      ]
    },
    {
      "cell_type": "markdown",
      "metadata": {
        "id": "6H3AMTLSS8Gq"
      },
      "source": [
        "## Feeding in the document"
      ]
    },
    {
      "cell_type": "markdown",
      "metadata": {
        "id": "nguoZQVxRDDx"
      },
      "source": [
        "We feed in a document of Bharatiya Nyaya Sanhita, containing all criminal laws of India - a revised version of Indian Penal Code (IPC).\n",
        "\n",
        "https://prsindia.org/files/bills_acts/bills_parliament/2023/Bharatiya_Nyaya_Sanhita,_2023.pdf"
      ]
    },
    {
      "cell_type": "code",
      "execution_count": 63,
      "metadata": {
        "id": "f20NMBnDNQjJ",
        "colab": {
          "base_uri": "https://localhost:8080/"
        },
        "outputId": "60ba9abd-0e30-4d16-ae8c-6f109574aa53"
      },
      "outputs": [
        {
          "output_type": "stream",
          "name": "stdout",
          "text": [
            "THE BHARATIYA NYAYA SANHITA, 2023\n",
            "—————\n",
            "ARRANGEMENT OF CLAUSES\n",
            "—————\n",
            "CHAPTER IP\n",
            "RELIMINARY\n",
            "CLAUSES\n",
            "1. Short title, commencement and application.\n",
            "2. Definitions.\n",
            "3. General Explanations and expressions.\n",
            "CHAPTER II\n",
            "OF PUNISHMENTS\n",
            "4. Punishments.\n",
            "5. Commutation of sentence of death or imprisonment for life.\n",
            "6. Fractions of terms of punishment.7. Sentence may be (in certain cases of imprisonment) wholly or partly rigorous or\n",
            "simple.\n",
            "8. Amount of fine, liability in default of payment of fine, etc.9. Limit of punishment of offence made up of several offences.\n",
            "10. Punishment of person guilty of one of several offences, the judgment stating that it\n",
            "is doubtful of which.\n",
            "11. Solitary confinement.12. Limit of solitary confinement.13. Enhanced punishment for certain offences after previous conviction.\n",
            "CHAPTER III\n",
            "G\n",
            "ENERAL  EXCEPTIONS\n",
            "14. Act done by a person bound, or by mistake of fact believing himself bound, by law.15. Act of Judge when acting judicially.\n",
            "16. Act done pursuant to the judgment or order of Court.\n",
            "17. Act done by a person justified, or by mistake of fact believing himself, justified, by\n",
            "law.\n",
            "18. Accident in doing a lawful act.19. Act likely to cause harm, but done without criminal intent, and to prevent other\n",
            "harm.\n",
            "20. Act of a child under seven years of age.\n",
            "21. Act of a child above seven and under twelve of immature understanding.\n",
            "22. Act of a person of mental illness.23. Act of a person incapable of judgment by reason of intoxication caused against his\n",
            "will.AS INTRODUCED  IN LOK SABHA\n",
            "Bill No. 121 of 2023\n"
          ]
        }
      ],
      "source": [
        "from pypdf import PdfReader\n",
        "\n",
        "reader = PdfReader(\"/content/Bharatiya_Nyaya_Sanhita,_2023.pdf\")\n",
        "pdf_texts = [p.extract_text().strip() for p in reader.pages]\n",
        "\n",
        "# Filter the empty strings\n",
        "pdf_texts = [text for text in pdf_texts if text]\n",
        "\n",
        "print((pdf_texts[0]))\n",
        "\n",
        "# from langchain_community.document_loaders import PDFPlumberLoader\n",
        "# loader = PDFPlumberLoader(\"/content/Bharatiya_Nyaya_Sanhita,_2023.pdf\")\n",
        "# docs = loader.load()\n",
        "\n",
        "# from pypdf import PdfReader\n",
        "\n",
        "# reader = PdfReader(\"/content/Bharatiya_Nyaya_Sanhita,_2023.pdf\")\n",
        "# pdf_texts = [p.extract_text().strip() for p in reader.pages]\n",
        "\n",
        "# # Filter the empty strings\n",
        "# pdf_texts = [text for text in pdf_texts if text]"
      ]
    },
    {
      "cell_type": "markdown",
      "metadata": {
        "id": "T29CwFbdTKUN"
      },
      "source": [
        "## Splitting, chunking and forming embeddings"
      ]
    },
    {
      "cell_type": "code",
      "execution_count": 65,
      "metadata": {
        "id": "ot7DGT88Qx0G",
        "colab": {
          "base_uri": "https://localhost:8080/"
        },
        "outputId": "ec5b7535-8ce9-4a13-b6a8-b47b82f37082"
      },
      "outputs": [
        {
          "output_type": "stream",
          "name": "stdout",
          "text": [
            "129. Punishment for assault or criminal force otherwise than on grave provocation.\n",
            "130. Assault or criminal force to deter public servant from discharge of his duty.\n",
            "131. Assault or criminal force with intent to dishonor person, otherwise than on grave\n",
            "provocation.\n",
            "132. Assault or criminal force in attempt to commit theft of property carried by a person.\n",
            "133. Assault or criminal force in attempt wrongfully to confine a person.\n",
            "134. Assault or criminal force on grave provocation.\n",
            "Of  Kidnapping, Abduction, Slavery and Forced Labour\n",
            "135. Kidnapping.\n",
            "136. Abduction.\n",
            "137. Kidnapping or maiming a child for purposes of begging.\n",
            "138. Kidnapping or abducting in order to murder or for ransom etc.\n",
            "139. Importation of girl or boy from foreign country.\n",
            "140. W rongfully concealing or keeping in confinement, kidnapped or abducted person .\n",
            "141. Trafficking of person.\n",
            "142. Exploitation of a trafficked person .CLAUSES\n",
            "\n",
            "Total chunks: 558\n"
          ]
        }
      ],
      "source": [
        "from langchain.text_splitter import RecursiveCharacterTextSplitter, SentenceTransformersTokenTextSplitter\n",
        "\n",
        "character_splitter = RecursiveCharacterTextSplitter(\n",
        "    separators=[\"\\n\\n\", \"\\n\", \". \", \" \", \"\"],\n",
        "    chunk_size=1000,\n",
        "    chunk_overlap=0\n",
        ")\n",
        "character_split_texts = character_splitter.split_text('\\n\\n'.join(pdf_texts))\n",
        "\n",
        "print((character_split_texts[10]))\n",
        "print(f\"\\nTotal chunks: {len(character_split_texts)}\")"
      ]
    },
    {
      "cell_type": "code",
      "execution_count": 66,
      "metadata": {
        "id": "WiaVJ79lQ0k5",
        "colab": {
          "base_uri": "https://localhost:8080/"
        },
        "outputId": "e8de4526-ced8-439f-d7aa-69e967edf282"
      },
      "outputs": [
        {
          "output_type": "stream",
          "name": "stdout",
          "text": [
            "force. 127. criminal force. 128. assault.\n",
            "\n",
            "Total chunks: 560\n"
          ]
        }
      ],
      "source": [
        "token_splitter = SentenceTransformersTokenTextSplitter(chunk_overlap=0, tokens_per_chunk=256)\n",
        "\n",
        "token_split_texts = []\n",
        "for text in character_split_texts:\n",
        "    token_split_texts += token_splitter.split_text(text)\n",
        "\n",
        "print((token_split_texts[10]))\n",
        "print(f\"\\nTotal chunks: {len(token_split_texts)}\")"
      ]
    },
    {
      "cell_type": "code",
      "execution_count": 67,
      "metadata": {
        "id": "1-kANoqeSoSw",
        "colab": {
          "base_uri": "https://localhost:8080/",
          "height": 406,
          "referenced_widgets": [
            "0c2cc2b808654ba4a2fa400670006e54",
            "00ca6357fb5d45fd84d43d8ab191a841",
            "a6f1f8f30a624206b7efd821b31a257e",
            "cd4d46a14dfe4d82a87eaf06fec62b08",
            "814599e064fa4a97ae13b044d1cf16a9",
            "5a4bcff6a6b14b0cb8cd845f8056e3c3",
            "b75d15bc929f4faf9f1abbbfeaaa4a5b",
            "ba5bcf15b8594387a5c795961864db00",
            "0a9116eae7f949ae8d3ee31c7017c728",
            "46014b3bf87746dda3eec13144ec74dc",
            "cb66b3e8ae8141b5b924f800b1d4854a",
            "78a08ab7c67e4278bf0c5cf60ec60fa0",
            "b2f77b777c994404aba508845ee7403e",
            "218db081ca964855a3187c9ee594ea03",
            "0daf53c9590d4cf9b90a64e7b38ed130",
            "af1e92634e944621a3e53b93815bee6e",
            "eb5365b04bd947fd93eddbde97a60568",
            "1f0b322331174ad39296d08ab6eb39d1",
            "5d45c46cd646481a9b14e1c9a4786a9c",
            "982a9229294a44c380af9e448ad608b0",
            "4a8c6d1e46614c9a81ee3a463897238e",
            "bf7d6670c2384ced892ff47dfa7ab9a7",
            "ee6228218a0f4471ad45a6240ce8989c",
            "9f9e5b6341444bc391aebea263a9f287",
            "f3acfe92c8a4419c987e5e138383c10d",
            "6abbdee81c434970bf34b0979b00f6de",
            "fe51329ef5224ff9876e92784a55f45a",
            "c427c5aedd3b49d4b32ada3f8ec284f3",
            "259a7713946a4c0baad57be521954c76",
            "aa13020c81c247a686bbbfef0a263be6",
            "5178484989ae4665a21fad899cf813b5",
            "0de0e666d0644d55bf4133e6acca59d8",
            "79d9bafa74ac4597b624b8e32ae07938",
            "d298b9d22b3f4c58bfb1fc2f4e66f838",
            "a256274a4cf54f91b6dc6b61778aeb79",
            "eec26d9be84a45049be0dfc545f63379",
            "9e80e2dbdf3c45efb1a04c8b643c20e3",
            "d68727840cec4e14b626181ed56f6a09",
            "4bf80c8d8eb7478ca389f3dcd1f0e515",
            "febe0079774f4d2f8a7e7db59a0a1e06",
            "b28e7dbf05f448b4bf8744a087443fd9",
            "f9240bda55fa4124988cac66ca549dc1",
            "813b4e763d3e467da4995990278f66e6",
            "2412b45ee3b849529a0f82af23610f26",
            "bd6ccc4eb9a645e7875c58266905f848",
            "cc5aa6b6efa34b62a85ef463532b461a",
            "4f2c404d106849748fdf6e45645fc528",
            "16fea0729b0f4d8bb41f22fbf7995837",
            "58537b8f98b14fc9b144c5949cc8e502",
            "693069fe1bda44b794f3e1aeaeae7d2d",
            "e74fc2d8546a4e43b495630f58305c89",
            "25a00466073b4c1b8790bce7f6e89eb9",
            "623d2d9b2dfb404da6a7287268eb154c",
            "c46773c10f594c25b13ac636703615f7",
            "1a7e7d0efbf54fd8a0ed42c23782346f",
            "9da98813dce049a5ad7fa0420065c2b6",
            "d580d3f0d5874efb83c7e0ab335e35ae",
            "63787fd8b4354fb7bd29ecb545253c34",
            "2e325b78e9394f0fb82e87ff6d7d68f2",
            "7a16684d86104555b95c683b6c76a86b",
            "a4fc362d79fc422086cdb2b66e2fe363",
            "e872e44b30734aeba9fdee69650b8295",
            "0ee4316feca04d2b9c5ac1cdfff3b70a",
            "6b726530e11f4289a08742942f5278af",
            "590fb0b22b0049cfaca006f38fa91737",
            "2043c7288a374fd18573939baf770084",
            "fbd861316c3c40918d81d68274af8183",
            "b17dac145de64b589963f19337e0af9f",
            "a31e0b22a4784c3395cb06b151585582",
            "80629aa8fa4445f88913e999594faa74",
            "6f7aac6bacaf4879b3940a00a5f8c730",
            "f0ce23bc4baa4df3947315b13654e42b",
            "9c12222f6b0c4e94a67a6a7fbfca49b9",
            "f132d904f35d4931884e0160438937c1",
            "b483ef26610947699436f807c20770a3",
            "c50a58b764c54075a9dd3ca2852c4572",
            "b18eaab76649445695c189e430456e8e",
            "e1778896303443768bd1ea4edfb7e00c",
            "a0e703a0e91c4365baf4e9411e72c2ae",
            "a5500ff39e4a4a0fb1392646abd2d59b",
            "63f914e15c724bbda7f0e582280a7c62",
            "228d625f5c81407fa3caa4a1b378123a",
            "3e26ec4caed141979be3a19aa60c26ca",
            "779e388b76134bc6a195375591c0fbd3",
            "3b87b1c9d11541958001542d8997f6f1",
            "75ae243a4ec948228462e178c6b8e69e",
            "04ba9a5a700946418555d4d73081f5cf",
            "09bae30d302f47e9aa58b0171091c0fc",
            "42c50a1ec1804db7801ea941d83c8441",
            "205d8c0307bb4ff790b7a1c791dada21",
            "df401c0b61a74a39897745162874f43c",
            "7d8a0c3b6d294db5899b799b952f2be9",
            "e72f7c11d60847ebb614c8d46f1f9db0",
            "95fe4e5be21240569ac6f9f0e67c4e5e",
            "7e56aa724c0745aea10510666ed5ef76",
            "0de65a92b8d04433928e5ce76d2260e6",
            "42023666e5d3440883bbf07d0243a34f",
            "6b692aaa00d8453b84a93a2eebc065a8",
            "e0eae8ef89a14660b1e55d4018eaacf2",
            "415d95aaec0c4ff6af6f63411d50f9f2",
            "4636dd55af304872a5c34f9bf9abb6ee",
            "0b09ae67bed14555bc846d769c7a4240",
            "b34fc193bbda439591c12592a684f049",
            "3ee2e671f85a4fc785558e61baf7fdd8",
            "e2edd4366aa24b3c938df5e30fbf0d90",
            "4970da7efbf14bd5827936e6f5cdc60c",
            "e73eed9eab114072bfa14e1353ab03fc",
            "b62c6d5560504bfc88d28852267fddd5",
            "3ae84ffd45754da29784f64da382c348",
            "3332380362f0437284f213d32ba6b75d",
            "bfa62e75226148cb9b5a6505cf38bf66",
            "4e748d7b81eb4c3890aaadb579d36665",
            "08055cd7ad6b448fbb793e6dea37b325",
            "5fcb03d6b4b8484fb2b7fdabf84c4b57",
            "38c361b92ea94c6ba71fc8bfd8d82c87",
            "b5ebee50628642f9bd7e9c474ce09267",
            "90f9d45e98be423180ad3f09d9bf0059",
            "da058ace52644f98b5cfb3b30879a3a2",
            "456df5f5866b4866ac95b00ee183c75d",
            "2507982eefbe49d985c03409a1476711",
            "2e3eab851ba44b17a6dd5072453833d0"
          ]
        },
        "outputId": "b427b252-92ff-4a55-f088-c65b40371c13"
      },
      "outputs": [
        {
          "output_type": "display_data",
          "data": {
            "text/plain": [
              "modules.json:   0%|          | 0.00/349 [00:00<?, ?B/s]"
            ],
            "application/vnd.jupyter.widget-view+json": {
              "version_major": 2,
              "version_minor": 0,
              "model_id": "0c2cc2b808654ba4a2fa400670006e54"
            }
          },
          "metadata": {}
        },
        {
          "output_type": "display_data",
          "data": {
            "text/plain": [
              "config_sentence_transformers.json:   0%|          | 0.00/116 [00:00<?, ?B/s]"
            ],
            "application/vnd.jupyter.widget-view+json": {
              "version_major": 2,
              "version_minor": 0,
              "model_id": "78a08ab7c67e4278bf0c5cf60ec60fa0"
            }
          },
          "metadata": {}
        },
        {
          "output_type": "display_data",
          "data": {
            "text/plain": [
              "README.md:   0%|          | 0.00/10.7k [00:00<?, ?B/s]"
            ],
            "application/vnd.jupyter.widget-view+json": {
              "version_major": 2,
              "version_minor": 0,
              "model_id": "ee6228218a0f4471ad45a6240ce8989c"
            }
          },
          "metadata": {}
        },
        {
          "output_type": "display_data",
          "data": {
            "text/plain": [
              "sentence_bert_config.json:   0%|          | 0.00/53.0 [00:00<?, ?B/s]"
            ],
            "application/vnd.jupyter.widget-view+json": {
              "version_major": 2,
              "version_minor": 0,
              "model_id": "d298b9d22b3f4c58bfb1fc2f4e66f838"
            }
          },
          "metadata": {}
        },
        {
          "output_type": "display_data",
          "data": {
            "text/plain": [
              "config.json:   0%|          | 0.00/612 [00:00<?, ?B/s]"
            ],
            "application/vnd.jupyter.widget-view+json": {
              "version_major": 2,
              "version_minor": 0,
              "model_id": "bd6ccc4eb9a645e7875c58266905f848"
            }
          },
          "metadata": {}
        },
        {
          "output_type": "display_data",
          "data": {
            "text/plain": [
              "model.safetensors:   0%|          | 0.00/90.9M [00:00<?, ?B/s]"
            ],
            "application/vnd.jupyter.widget-view+json": {
              "version_major": 2,
              "version_minor": 0,
              "model_id": "9da98813dce049a5ad7fa0420065c2b6"
            }
          },
          "metadata": {}
        },
        {
          "output_type": "display_data",
          "data": {
            "text/plain": [
              "tokenizer_config.json:   0%|          | 0.00/350 [00:00<?, ?B/s]"
            ],
            "application/vnd.jupyter.widget-view+json": {
              "version_major": 2,
              "version_minor": 0,
              "model_id": "fbd861316c3c40918d81d68274af8183"
            }
          },
          "metadata": {}
        },
        {
          "output_type": "display_data",
          "data": {
            "text/plain": [
              "vocab.txt:   0%|          | 0.00/232k [00:00<?, ?B/s]"
            ],
            "application/vnd.jupyter.widget-view+json": {
              "version_major": 2,
              "version_minor": 0,
              "model_id": "e1778896303443768bd1ea4edfb7e00c"
            }
          },
          "metadata": {}
        },
        {
          "output_type": "display_data",
          "data": {
            "text/plain": [
              "tokenizer.json:   0%|          | 0.00/466k [00:00<?, ?B/s]"
            ],
            "application/vnd.jupyter.widget-view+json": {
              "version_major": 2,
              "version_minor": 0,
              "model_id": "42c50a1ec1804db7801ea941d83c8441"
            }
          },
          "metadata": {}
        },
        {
          "output_type": "display_data",
          "data": {
            "text/plain": [
              "special_tokens_map.json:   0%|          | 0.00/112 [00:00<?, ?B/s]"
            ],
            "application/vnd.jupyter.widget-view+json": {
              "version_major": 2,
              "version_minor": 0,
              "model_id": "415d95aaec0c4ff6af6f63411d50f9f2"
            }
          },
          "metadata": {}
        },
        {
          "output_type": "display_data",
          "data": {
            "text/plain": [
              "1_Pooling/config.json:   0%|          | 0.00/190 [00:00<?, ?B/s]"
            ],
            "application/vnd.jupyter.widget-view+json": {
              "version_major": 2,
              "version_minor": 0,
              "model_id": "bfa62e75226148cb9b5a6505cf38bf66"
            }
          },
          "metadata": {}
        },
        {
          "output_type": "stream",
          "name": "stdout",
          "text": [
            "[[-0.013619152829051018, 0.04207412526011467, -0.046501994132995605, 0.00871409010142088, -0.05017060786485672, 0.04638867452740669, -0.006798196118324995, -0.008451689034700394, -0.05401458963751793, 0.03464439883828163, 0.11186734586954117, -0.055345118045806885, 0.028954394161701202, 0.03301989287137985, -0.07606334239244461, -0.07169773429632187, 0.06854144483804703, -0.03927399590611458, 0.05108104273676872, 0.11075495928525925, 0.04194996505975723, 0.07057356834411621, 0.09054084122180939, -0.027223195880651474, -0.09071942418813705, 0.006933515891432762, -0.08921657502651215, 0.02356128767132759, -0.04572782665491104, -0.11901222169399261, 0.011740420944988728, 0.04497673735022545, 0.06563227623701096, 0.05679904669523239, -0.008386336266994476, -0.02796681597828865, 0.07263123989105225, -0.02666163444519043, -0.030900493264198303, 0.011999569833278656, -0.02734563872218132, 0.007786242291331291, 0.07630109786987305, 0.059679750353097916, 0.002953886752948165, 0.0034313558135181665, -0.03116030804812908, 0.026278188452124596, 0.10171552747488022, -0.021821502596139908, -0.0014951406046748161, 0.019963961094617844, -0.04748466983437538, 0.10984286665916443, 0.03687909245491028, -0.07635807991027832, 0.007003822363913059, -0.006485051475465298, -0.012436620891094208, 0.023049477487802505, -0.03814959526062012, 0.13404172658920288, -0.005052406806498766, 0.06828634440898895, -0.011061688885092735, -0.03854483366012573, -0.024654442444443703, -0.008646031841635704, 0.0061296699568629265, 0.01450370904058218, 0.020965592935681343, 0.0028405652847141027, -0.04392097517848015, 0.02152927778661251, -0.04652824625372887, 0.039378125220537186, 0.00029170961352065206, 0.022713223472237587, 0.03312835097312927, -0.07849252969026566, -0.05740341171622276, -0.08576233685016632, -0.07243423908948898, 0.010142706334590912, 0.016386860981583595, -0.018631208688020706, -0.01952330395579338, 0.02890913374722004, 0.041230157017707825, 0.00614271592348814, 0.00038904405664652586, -0.037054721266031265, 0.03764531388878822, 0.029979482293128967, -0.030973032116889954, 0.0220528282225132, -0.02467375062406063, -0.04011690616607666, -0.09114337712526321, 0.05478959158062935, 0.03258616849780083, -0.000976604875177145, -0.07813454419374466, -0.035006169229745865, -0.04380102455615997, -0.014324684627354145, 0.006533083505928516, 0.02240297757089138, -0.021274279803037643, -0.015575661323964596, 0.029759112745523453, -0.033513143658638, -0.015120621770620346, -0.02613643743097782, 0.07081187516450882, 0.052964482456445694, 0.008930552750825882, -0.0028116796165704727, 0.03219553083181381, 0.05087096989154816, 0.042177170515060425, -0.011868408881127834, -0.06048756092786789, -0.02257109433412552, -0.05631178617477417, -0.026843935251235962, -0.04708549752831459, -5.969319739896906e-33, 0.0466017909348011, -0.08417168259620667, 0.014218680560588837, -0.002515625674277544, 0.009730213321745396, -0.0647888258099556, -0.003391460981220007, 0.042044807225465775, -0.03403325006365776, 0.11090148985385895, -0.02199198491871357, 0.004115190356969833, 0.02727082371711731, -0.008706915192306042, 0.03595845028758049, 0.04454823210835457, 0.028251752257347107, 0.06191422790288925, -0.015631219372153282, 0.0036907782778143883, -0.01743631809949875, 0.08073798567056656, -0.0851917639374733, 0.04842584952712059, 0.029679302126169205, 0.06110166013240814, -0.05467002093791962, 0.08085158467292786, 0.057117216289043427, 0.02600346878170967, -0.005589833948761225, 0.043262045830488205, 0.021303854882717133, 0.02046124078333378, 0.013309050351381302, -0.008573200553655624, 0.028347933664917946, -0.07771577686071396, -0.03344661369919777, -0.03610362112522125, -0.05531284213066101, 0.03925233334302902, -0.035261787474155426, -0.027665989473462105, 0.09315282851457596, -0.035089775919914246, 0.03541400656104088, -1.1377022019587457e-05, -0.022657165303826332, 0.06340782344341278, -0.010736790485680103, 0.004019569139927626, 0.013348681852221489, 0.036734018474817276, -0.06756000965833664, 0.023733582347631454, -0.018469639122486115, 0.08055374026298523, -0.012426482513546944, 0.0828099325299263, 0.04764692112803459, 0.002840945962816477, -0.004363375250250101, 0.05426820367574692, -0.010122964158654213, -0.10834063589572906, -0.03589610010385513, -0.0011322122300043702, 0.0019541988149285316, 0.007493485230952501, -0.12262546271085739, 0.03709942102432251, 0.01508145872503519, -0.0017205358017235994, -0.05715344846248627, -0.016237322241067886, 0.040715523064136505, -0.04421641305088997, -0.03926320746541023, -0.05303750932216644, -0.13518770039081573, -0.0008842195384204388, -0.05502976477146149, 0.09606475383043289, 0.0665404200553894, 0.04520970582962036, -0.015363846905529499, -0.0822204053401947, -0.01730823516845703, -0.04692613705992699, -0.03458963707089424, -0.06787323951721191, -0.01274014264345169, 0.019644806161522865, -0.03247670829296112, 3.28466182398364e-33, 0.009999781847000122, -0.011419110000133514, -0.11428271979093552, 0.0699547752737999, 0.039147742092609406, 0.006619285326451063, 0.009954901412129402, 0.019788077101111412, -0.04172033816576004, 0.014018152840435505, -0.05028568580746651, -0.022572124376893044, 0.11069297790527344, 0.006104477681219578, 0.08204911649227142, -0.0018899348797276616, 0.03680820018053055, 0.03774217888712883, -0.04292530566453934, 0.041836585849523544, -0.013909870758652687, 0.07119825482368469, 0.14718513190746307, 0.03445778787136078, 0.06824503093957901, -0.00940723530948162, 0.04969371110200882, 0.025126900523900986, -0.11581285297870636, 0.07538370788097382, 0.038105838000774384, -0.059865254908800125, -0.02742026187479496, -0.007678799796849489, -0.1139327809214592, -0.0005382639355957508, 0.11587434262037277, -0.061408642679452896, -0.012803918682038784, -0.05070269852876663, 0.026475660502910614, 0.05797090008854866, -0.015323889441788197, 0.03574341535568237, -0.05879100784659386, -0.01740952581167221, 0.06694045662879944, -0.039453357458114624, -0.037198200821876526, -0.021318821236491203, -0.0268472321331501, -0.029222143813967705, 0.05489311367273331, 0.010286935605108738, -0.012645537964999676, -0.030685972422361374, -0.010839489288628101, 0.03374636173248291, -0.023183191195130348, 0.03940615803003311, 0.05935121327638626, 0.07100243121385574, -0.07985272258520126, 0.06921470165252686, 0.022087207064032555, 0.07186342030763626, -0.15612372756004333, 0.10334861278533936, -0.07087025046348572, -0.006887319032102823, -0.011911850422620773, -0.005607368890196085, 0.05229153484106064, 0.06747283786535263, -0.021239738911390305, -0.031029220670461655, 0.0003803747531492263, -0.019388359040021896, -0.09195266664028168, -0.03574126958847046, 0.024050388485193253, -0.042634397745132446, -0.06133564934134483, 0.0858236774802208, -0.028466396033763885, 0.018487635999917984, 0.03968000039458275, 0.06681322306394577, 0.03103630803525448, 0.012341189198195934, -0.036978136748075485, -0.024792637676000595, 0.028662437573075294, -0.0003128435928374529, -0.07462911307811737, -1.7219328185547056e-08, -0.04073835909366608, 0.08994594216346741, 0.007276518270373344, 0.02298041619360447, 0.03257660195231438, 0.11935777217149734, -0.07001061737537384, -0.0356232151389122, 0.004083803854882717, -0.05097636952996254, 0.06756382435560226, 0.014688001945614815, 0.04243215173482895, -0.01847550831735134, -0.025354495272040367, -0.04540904238820076, -0.0069466400891542435, -0.04954657331109047, -0.09635675698518753, 0.03690703585743904, -0.03928665071725845, -0.03566351160407066, 0.00864595640450716, 0.03784146532416344, -0.04865894839167595, 0.029638318344950676, -0.006705106236040592, 0.018707692623138428, 0.0050815739668905735, 0.05966990068554878, -0.036623384803533554, -0.002870971569791436, -0.13967686891555786, -0.0473008006811142, -0.05746982619166374, 0.1068747416138649, 0.004321723245084286, -0.030837835744023323, 0.015616212040185928, -0.026036106050014496, -0.022573048248887062, 0.019638054072856903, -0.004596477374434471, -0.02334212325513363, 0.045627012848854065, 0.016098951920866966, -0.10204382985830307, -0.08286535739898682, 0.05265089496970177, -0.10107281059026718, 0.008534629829227924, 0.06581953912973404, -0.03553121164441109, 0.07781903445720673, 0.07153576612472534, 0.05721012502908707, 0.016992058604955673, -0.00865914672613144, -0.10957527160644531, 0.08044078946113586, 0.1059056967496872, -0.032403670251369476, 0.006173904985189438, -0.004309379030019045]]\n"
          ]
        }
      ],
      "source": [
        "import chromadb\n",
        "from chromadb.utils.embedding_functions import SentenceTransformerEmbeddingFunction\n",
        "\n",
        "embedding_function = SentenceTransformerEmbeddingFunction()\n",
        "print(embedding_function([token_split_texts[10]]))"
      ]
    },
    {
      "cell_type": "code",
      "source": [
        "chroma_client = chromadb.Client()\n",
        "chroma_collection = chroma_client.create_collection(\"BNS\", embedding_function=embedding_function)\n",
        "\n",
        "ids = [str(i) for i in range(len(token_split_texts))]\n",
        "\n",
        "chroma_collection.add(ids=ids, documents=token_split_texts)\n",
        "chroma_collection.count()"
      ],
      "metadata": {
        "colab": {
          "base_uri": "https://localhost:8080/"
        },
        "id": "Kq4y2ObHQsVN",
        "outputId": "57fc46d7-2dda-4060-d3b0-cdcbc6e1bca0"
      },
      "execution_count": 70,
      "outputs": [
        {
          "output_type": "execute_result",
          "data": {
            "text/plain": [
              "560"
            ]
          },
          "metadata": {},
          "execution_count": 70
        }
      ]
    },
    {
      "cell_type": "markdown",
      "metadata": {
        "id": "fBxoYjmFaR4f"
      },
      "source": [
        "## Seeing extracted documents for normal retrieval"
      ]
    },
    {
      "cell_type": "code",
      "source": [
        "query = \"Which clause is related to dowry death?\"\n",
        "\n",
        "results = chroma_collection.query(query_texts=[query], n_results=5)\n",
        "retrieved_documents = results['documents'][0]\n",
        "\n",
        "for document in retrieved_documents:\n",
        "    print((document))\n",
        "    print('\\n')"
      ],
      "metadata": {
        "colab": {
          "base_uri": "https://localhost:8080/"
        },
        "id": "Vq3CxDaRRewj",
        "outputId": "4ecb47d3-1d77-402e-a2bf-db22e3e7b0ae"
      },
      "execution_count": 129,
      "outputs": [
        {
          "output_type": "stream",
          "name": "stdout",
          "text": [
            "otherwise than under normal circumstances within seven years of her marriage and it isshown that soon before her death she was subjected to cruelty or harassment by her husbandor any relative of her husband for, or in connection with, any demand for dowry, such deathshall be called “ dowry death ”, and such husband or relative shall be deemed to have causedher death. explanation. — for the purposes of this sub - section, “ dowry ” shall have the same meaning as in section 2 of the dowry prohibition act, 1961. ( 2 ) whoever commits dowry death shall be punished with imprisonment for a term which shall not be less than seven years but which may extend to imprisonment for life. 80. every man who by deceit causes any woman who is not lawfully married to him to believe that she is lawfully married to him and to cohabit or have sexual intercourse with him in that belief, shall be punished with imprisonment of either description for a term which may\n",
            "\n",
            "\n",
            "extend to ten years, and shall also be liable to fine. 81. ( 1 ) whoever, having a husband or wife living, marries in any case in which such marriage is void by reason of its taking place during the life of such husband or wife, shall be punished with imprisonment of either description for a term which may extend to seven years, and shall also be liable to fine. exception. — this sub - section does not extend to any person whose marriage with such husband or wife has been declared void by a court of competent jurisdiction, nor to any person who contracts a marriage during the life of a former husband or wife, if such husband or wife, at the time of the subsequent marriage, shall have been continually absentstalking. word, gesture or actintended toinsult modestyof woman. dowry death. cohabitation caused by mandeceitfullyinducingbelief of lawfulmarriage. marrying again duringlifetime ofhusband orwife. 28 of 1961. 5 10 15 20 25 30 35 40 45\n",
            "\n",
            "\n",
            "111 at any age be employed or used for any such purpose, shall be punished with imprisonment of either description for a term which shall not be less than seven years but which mayextend to fourteen years, and shall also be liable to fine. clause 98 of the bill seeks to provide that whoever causes death by doing an act with the intention of causing death, or with the intention of causing such bodily injury as is likelyto cause death, or with the knowledge that he is likely by such act to cause death, commitsthe offence of culpable homicide. clause 99 of the bill seeks to provide various circumstances under which the culpable homicide is murder. clause 100 of the bill seeks to define culpable homicide by causing death of person other than person whose death was intended. clause 101 of the bill seeks to provide punishment for murder which shall be death or imprisonment for life, and also fine. sub - clause ( 2 ) further provides that when a murder is\n",
            "\n",
            "\n",
            "any act with the intention of thereby preventing that child from being born alive or causingit to die after its birth, and does by such act prevent that child from being born alive, orcauses it to die after its birth, shall, if such act be not caused in good faith for the purpose ofsaving the life of the mother, be punished with imprisonment of either description for a termwhich may extend to ten years, or with fine, or with both. clause 90 of the bill seeks to provide that whoever does any act under such circumstances, that if he thereby caused death he would be guilty of culpable homicide, anddoes by such act cause the death of a quick unborn child, shall be punished with imprisonmentof either description for a term which may extend to ten years, and shall also be liable to fine. clause 91 of the bill seeks to provide that whoever being the father or mother of a\n",
            "\n",
            "\n",
            "18 illustration s. ( a ) a, with a guilty intention, abets a child or a person with mental illness to commit an act which would be an offence, if committed by a person capable by law of committing an offence, and having the same intention as a. here a, whether the act be committed or not, isguilty of abetting an offence. ( b ) a, with the intention of murdering z, instigates b, a child under seven years of age, to do an act which causes z ’ s death. b, in consequence of the abetment, does the act in theabsence of a and thereby causes z ’ s death. here, though b was not capable by law ofcommitting an offence, a is liable to be punished in the same manner as if b had been capableby law of committing an offence, and had committed murder, and he is therefore subject tothe punishment of death. ( c ) a instigates b to set fire to a dwelling - house. b, in consequence of his mental\n",
            "\n",
            "\n"
          ]
        }
      ]
    },
    {
      "cell_type": "code",
      "source": [
        "type(retrieved_documents)"
      ],
      "metadata": {
        "colab": {
          "base_uri": "https://localhost:8080/"
        },
        "id": "cXYvF08VSjMF",
        "outputId": "97acdf62-725b-46d4-a2f9-722091c624a8"
      },
      "execution_count": 130,
      "outputs": [
        {
          "output_type": "execute_result",
          "data": {
            "text/plain": [
              "list"
            ]
          },
          "metadata": {},
          "execution_count": 130
        }
      ]
    },
    {
      "cell_type": "code",
      "source": [
        "def rag(retrieved_documents, question, llm):\n",
        "  context = ''\n",
        "  for i in retrieved_documents:\n",
        "    context += i\n",
        "  # context = retrieved_documents[0] + retrieved_documents[1] + retrieved_documents[2] + retrieved_documents[3] + retrieved_documents[4]\n",
        "  prompt = f\"\"\"\n",
        "  You are a chatbot trained on Bharatiya Nyaya Sanhita, the new version of Indian criminal laws. Users will ask you questions related to criminal laws. If you don't know the answer, just say that \"I don't know\".\n",
        "  Don't jump to conclusions. Support your answer with proper reasoning always.\n",
        "\n",
        "  DO NOT USE ANY PRE-EXISTING KNOWLEDGE!!! Only use the knowledge I have provided you with.\n",
        "\n",
        "  DO NOT HALLUCINATE !!!\n",
        "\n",
        "  Context: {context}\n",
        "  Question: {question}\n",
        "  Answer:\n",
        "\n",
        "  \"\"\"\n",
        "  return (llm.invoke(prompt))"
      ],
      "metadata": {
        "id": "eLN_uYQgRqMN"
      },
      "execution_count": 131,
      "outputs": []
    },
    {
      "cell_type": "code",
      "source": [
        "print(rag(retrieved_documents, query, llm))"
      ],
      "metadata": {
        "colab": {
          "base_uri": "https://localhost:8080/"
        },
        "id": "LT7kMT-4SFoK",
        "outputId": "37d46f56-591f-465c-bbae-83170f34e9cf"
      },
      "execution_count": 132,
      "outputs": [
        {
          "output_type": "stream",
          "name": "stdout",
          "text": [
            "According to the Bharatiya Nyaya Sanhita, Clause 80 is not directly related to Dowry Death.\n",
            "\n",
            "However, I found that Clause 2 of Section 304B defines \"Dowry Death\". It states: \"Context: otherwise than under normal circumstances within seven years of her marriage and it is shown that soon before her death she was subjected to cruelty or harassment by her husband or any relative of her husband for, or in connection with, any demand for dowry, such death shall be called “dowry death”, and such husband or relative shall be deemed to have caused her death.\"\n",
            "\n",
            "Therefore, the relevant clause related to Dowry Death is Section 304B(2) of Bharatiya Nyaya Sanhita.\n"
          ]
        }
      ]
    },
    {
      "cell_type": "markdown",
      "metadata": {
        "id": "04LTFMdacfdQ"
      },
      "source": [
        "We can see the answer is not exactly correct. The correct clause is 79(1) and 79(2), as per the document."
      ]
    },
    {
      "cell_type": "markdown",
      "metadata": {
        "id": "fiW8MBt_cpX3"
      },
      "source": [
        "## Seeing extracted documents for retrieval using Query Expansion by Answer Generation"
      ]
    },
    {
      "cell_type": "code",
      "execution_count": 145,
      "metadata": {
        "id": "-siylGckc7OS"
      },
      "outputs": [],
      "source": [
        "query = \"Which clause is related to dowry death?\""
      ]
    },
    {
      "cell_type": "code",
      "execution_count": 146,
      "metadata": {
        "id": "8k6VAFwAftuO"
      },
      "outputs": [],
      "source": [
        "content = llm.invoke(\n",
        "f\"\"\"\n",
        "You are a helpful expert legal assistant. Provide an example answer to the given question, that might be found in a document like the official penal code of some country.\n",
        "\n",
        "Question:\n",
        "{query}\n",
        "\"\"\")"
      ]
    },
    {
      "cell_type": "code",
      "execution_count": 147,
      "metadata": {
        "id": "sg0TKgWQgm2p",
        "colab": {
          "base_uri": "https://localhost:8080/"
        },
        "outputId": "20102b9f-a0f3-4f03-fd36-7cb5b8d71111"
      },
      "outputs": [
        {
          "output_type": "stream",
          "name": "stdout",
          "text": [
            "In many countries, including India, Section 304-B of the Indian Penal Code (IPC) deals with the offense of \"Dowry Death\".\n",
            "\n",
            "The relevant provision reads:\n",
            "\n",
            "\"304-B. Dowry death: Whoever commits dowry death shall be punished with imprisonment for not less than seven years but which may extend to sentence of imprisonment for life, or with fine, or with both.\"\n",
            "\n",
            "This section was introduced by the Dowry Prohibition Act, 1961, to specifically address the growing problem of dowry deaths in India.\n"
          ]
        }
      ],
      "source": [
        "print(content)"
      ]
    },
    {
      "cell_type": "code",
      "source": [
        "joint_query = f\"{query} {content}\""
      ],
      "metadata": {
        "id": "L_eRpmSOnVSK"
      },
      "execution_count": 148,
      "outputs": []
    },
    {
      "cell_type": "code",
      "source": [
        "results = chroma_collection.query(query_texts=[joint_query], n_results=5)\n",
        "retrieved_documents = results['documents'][0]\n",
        "\n",
        "for document in retrieved_documents:\n",
        "    print((document))\n",
        "    print('\\n')"
      ],
      "metadata": {
        "colab": {
          "base_uri": "https://localhost:8080/"
        },
        "id": "PpoxYvX8ng-q",
        "outputId": "7be5c979-ef94-4266-fd9e-9a626c38017f"
      },
      "execution_count": 149,
      "outputs": [
        {
          "output_type": "stream",
          "name": "stdout",
          "text": [
            "otherwise than under normal circumstances within seven years of her marriage and it isshown that soon before her death she was subjected to cruelty or harassment by her husbandor any relative of her husband for, or in connection with, any demand for dowry, such deathshall be called “ dowry death ”, and such husband or relative shall be deemed to have causedher death. explanation. — for the purposes of this sub - section, “ dowry ” shall have the same meaning as in section 2 of the dowry prohibition act, 1961. ( 2 ) whoever commits dowry death shall be punished with imprisonment for a term which shall not be less than seven years but which may extend to imprisonment for life. 80. every man who by deceit causes any woman who is not lawfully married to him to believe that she is lawfully married to him and to cohabit or have sexual intercourse with him in that belief, shall be punished with imprisonment of either description for a term which may\n",
            "\n",
            "\n",
            "extend to ten years, and shall also be liable to fine. 81. ( 1 ) whoever, having a husband or wife living, marries in any case in which such marriage is void by reason of its taking place during the life of such husband or wife, shall be punished with imprisonment of either description for a term which may extend to seven years, and shall also be liable to fine. exception. — this sub - section does not extend to any person whose marriage with such husband or wife has been declared void by a court of competent jurisdiction, nor to any person who contracts a marriage during the life of a former husband or wife, if such husband or wife, at the time of the subsequent marriage, shall have been continually absentstalking. word, gesture or actintended toinsult modestyof woman. dowry death. cohabitation caused by mandeceitfullyinducingbelief of lawfulmarriage. marrying again duringlifetime ofhusband orwife. 28 of 1961. 5 10 15 20 25 30 35 40 45\n",
            "\n",
            "\n",
            "clause 77 of the bill seeks to provide for stalking such as follows a woman and contacts, or attempts to contact such woman to foster personal interaction repeatedly despitea clear indication of disinterest by such woman ; etc., and punishment thereof. clause 78 of the bill seeks to provide for punishment for intending to insult the modesty of any woman, utters any words, makes any sound or gesture, or exhibits anyobject in any form, intending that such word or sound shall be heard, or that such gesture orobject shall be seen, by such woman, or intrudes upon the privacy of such woman, withsimple imprisonment for a term which may extend to three years, and also with fine. clause 79 of the bill seeks to provide punishment for dowry death, which shall be with imprisonment for a term which shall not be less than seven years but which may extend toimprisonment for life. clause 80 of the bill seeks to provide punishment for cohabitation or sexual intercourse\n",
            "\n",
            "\n",
            "clause 106 of the bill seeks to provide that if any person commits suicide, whoever abets the commission of such suicide, shall be punished with imprisonment of eitherdescription for a term which may extend to ten years, and shall also be liable to fine. clause 107 of the bill seeks to provide punishment for attempt to murder and if by that death is caused, he would be guilty of murder and shall be punished with imprisonmentwhich may extend to ten years and also for fine and further provides that if hurt is caused bysuch act the punishment shall be imprisonment for life, or with fine, or with both. clause 108 of the bill seeks to define attempt to commit culpable homicide not amounting to murder and provides for punishment which may extend to three years, or withfine, or with both ; and, if hurt is caused to any person by such act, shall be punished withimprisonment of either description for a term which may extend to seven years, or with fine, or with both.\n",
            "\n",
            "\n",
            "clause 69 of the bill seeks to provide that whoever, by deceitful means or making by promise to marry to a woman without any intention of fulfilling the same, and has sexualintercourse with her, such sexual intercourse not amounting to the offence of rape, shall bepunished with imprisonment of either description for a term which may extend to ten yearsand shall also be liable to fine. clause 70 of the bill seeks to provide for punishment for gang rape, by one or more persons, to rigorous imprisonment for a term which shall not be less than twenty years, butwhich may extend to life which shall mean imprisonment for the remainder of that person'snatural life, and with fine and also provide for punishment for imprisonment for life or withdeath when a gang rape is committed with a woman under eighteen years of age. clause 71 of the bill seeks to provide for punishment for a repeat offender, previously\n",
            "\n",
            "\n"
          ]
        }
      ]
    },
    {
      "cell_type": "markdown",
      "source": [
        "Even now the relevant texts can't be found."
      ],
      "metadata": {
        "id": "1Y5sdvRpLgx8"
      }
    },
    {
      "cell_type": "code",
      "source": [
        "print(rag(retrieved_documents, joint_query, llm))"
      ],
      "metadata": {
        "colab": {
          "base_uri": "https://localhost:8080/"
        },
        "id": "GIZFbiMqLKHn",
        "outputId": "bed8288b-6705-45e7-88af-25b08ca66246"
      },
      "execution_count": 150,
      "outputs": [
        {
          "output_type": "stream",
          "name": "stdout",
          "text": [
            "According to the Bharatiya Nyaya Sanhita, Clause 79 is related to dowry death. The relevant provision reads: \"Clause 79 of the bill seeks to provide punishment for dowry death, which shall be with imprisonment for a term which shall not be less than seven years but which may extend to imprisonment for life.\"\n"
          ]
        }
      ]
    },
    {
      "cell_type": "markdown",
      "source": [
        "Results are better."
      ],
      "metadata": {
        "id": "iKhrtNx4pceN"
      }
    },
    {
      "cell_type": "markdown",
      "source": [
        "## Seeing extracted documents for retrieval using Query Expansion by Multiple Queries"
      ],
      "metadata": {
        "id": "VDS-5KSELAHk"
      }
    },
    {
      "cell_type": "code",
      "source": [
        "query = \"Which clause is related to dowry death?\""
      ],
      "metadata": {
        "id": "CHm6XmOjLuF-"
      },
      "execution_count": 151,
      "outputs": []
    },
    {
      "cell_type": "code",
      "source": [
        "content = llm.invoke(f\"\"\"\n",
        "            You are a helpful expert legal assistant. Your users are asking questions about the penal code of some country.\n",
        "            Suggest up to five additional related questions to help them find the information they need, for the provided question.\n",
        "            Suggest only short questions without compound sentences. Suggest a variety of questions that cover different aspects of the topic.\n",
        "            Make sure they are complete questions, and that they are related to the original question.\n",
        "            Output one question per line. Do not number the questions.\n",
        "\n",
        "            Question by user : {query}\n",
        "\"\"\")"
      ],
      "metadata": {
        "id": "TSf9RWF9LuJX"
      },
      "execution_count": 152,
      "outputs": []
    },
    {
      "cell_type": "code",
      "source": [
        "print(content)"
      ],
      "metadata": {
        "colab": {
          "base_uri": "https://localhost:8080/"
        },
        "id": "RQGZoreMU-Rx",
        "outputId": "1492bc4a-6f9e-4f66-d435-2a47df1b31dc"
      },
      "execution_count": 153,
      "outputs": [
        {
          "output_type": "stream",
          "name": "stdout",
          "text": [
            "What is the definition of dowry in the penal code?\n",
            "\n",
            "Is there a specific section or article that defines dowry and dowry death?\n",
            "\n",
            "Can you provide more context about the circumstances surrounding the dowry death, such as the marital status of the victim?\n",
            "\n",
            "Are there any specific penalties or punishments outlined for those found guilty of committing a dowry death?\n",
            "\n",
            "Does the penal code specify who is considered responsible for the dowry death, such as the husband or other family members?\n"
          ]
        }
      ]
    },
    {
      "cell_type": "code",
      "source": [
        "augmented_query = f\"{query} {content}\""
      ],
      "metadata": {
        "id": "5I9M0Lf2MpFF"
      },
      "execution_count": 154,
      "outputs": []
    },
    {
      "cell_type": "code",
      "source": [
        "results = chroma_collection.query(query_texts=[augmented_query], n_results=5)\n",
        "retrieved_documents = results['documents'][0]\n",
        "\n",
        "for document in retrieved_documents:\n",
        "    print((document))\n",
        "    print('\\n')"
      ],
      "metadata": {
        "colab": {
          "base_uri": "https://localhost:8080/"
        },
        "id": "MKlVVys6UbUc",
        "outputId": "451de4d2-0655-475d-f148-c5e7c9608108"
      },
      "execution_count": 155,
      "outputs": [
        {
          "output_type": "stream",
          "name": "stdout",
          "text": [
            "otherwise than under normal circumstances within seven years of her marriage and it isshown that soon before her death she was subjected to cruelty or harassment by her husbandor any relative of her husband for, or in connection with, any demand for dowry, such deathshall be called “ dowry death ”, and such husband or relative shall be deemed to have causedher death. explanation. — for the purposes of this sub - section, “ dowry ” shall have the same meaning as in section 2 of the dowry prohibition act, 1961. ( 2 ) whoever commits dowry death shall be punished with imprisonment for a term which shall not be less than seven years but which may extend to imprisonment for life. 80. every man who by deceit causes any woman who is not lawfully married to him to believe that she is lawfully married to him and to cohabit or have sexual intercourse with him in that belief, shall be punished with imprisonment of either description for a term which may\n",
            "\n",
            "\n",
            "extend to ten years, and shall also be liable to fine. 81. ( 1 ) whoever, having a husband or wife living, marries in any case in which such marriage is void by reason of its taking place during the life of such husband or wife, shall be punished with imprisonment of either description for a term which may extend to seven years, and shall also be liable to fine. exception. — this sub - section does not extend to any person whose marriage with such husband or wife has been declared void by a court of competent jurisdiction, nor to any person who contracts a marriage during the life of a former husband or wife, if such husband or wife, at the time of the subsequent marriage, shall have been continually absentstalking. word, gesture or actintended toinsult modestyof woman. dowry death. cohabitation caused by mandeceitfullyinducingbelief of lawfulmarriage. marrying again duringlifetime ofhusband orwife. 28 of 1961. 5 10 15 20 25 30 35 40 45\n",
            "\n",
            "\n",
            "committed by a group of five or more persons acting in concert on the ground of race, casteor community, sex, place of birth, language, personal belief or any other ground each memberof such group shall be punished with death or with imprisonment for life or imprisonment fora term which shall not be less than seven years and shall also be liable to fine. clause 102 of the bill seeks to provide that whoever, being under sentence of imprisonment for life, commits murder, shall be punished with death or with imprisonment forlife, which shall mean the remainder of that person's natural life. clause 103 of the bill seeks to provide the punishment for culpable homicide not amounting to murder. clause 104 of the bill seeks to provide that whoever causes the death of any person by\n",
            "\n",
            "\n",
            "111 at any age be employed or used for any such purpose, shall be punished with imprisonment of either description for a term which shall not be less than seven years but which mayextend to fourteen years, and shall also be liable to fine. clause 98 of the bill seeks to provide that whoever causes death by doing an act with the intention of causing death, or with the intention of causing such bodily injury as is likelyto cause death, or with the knowledge that he is likely by such act to cause death, commitsthe offence of culpable homicide. clause 99 of the bill seeks to provide various circumstances under which the culpable homicide is murder. clause 100 of the bill seeks to define culpable homicide by causing death of person other than person whose death was intended. clause 101 of the bill seeks to provide punishment for murder which shall be death or imprisonment for life, and also fine. sub - clause ( 2 ) further provides that when a murder is\n",
            "\n",
            "\n",
            "in furtherance of a common intention, each of those persons shall be deemed to have committedthe offence of rape and shall be punished with rigorous imprisonment for a term which shallnot be less than twenty years, but which may extend to life which shall mean imprisonmentfor the remainder of that person ’ s natural life, and with fine : provided that such fine shall be just and reasonable to meet the medical expenses and rehabilitation of the victim : provided further that any fine imposed under this sub - section shall be paid to the victim. ( 2 ) where a woman under eighteen years of age is raped by one or more persons constituting a group or acting in furtherance of a common intention, each of those personsshall be deemed to have committed the offence of rape and shall be punished withimprisonment for life, which shall mean imprisonment for the remainder of that person ’ snatural life, and with fine, or with death :\n",
            "\n",
            "\n"
          ]
        }
      ]
    },
    {
      "cell_type": "code",
      "execution_count": 158,
      "metadata": {
        "id": "dSn5u8Rcd6N-",
        "colab": {
          "base_uri": "https://localhost:8080/"
        },
        "outputId": "0e2d01e1-7eaa-4ab5-92bc-0e38bb262a1a"
      },
      "outputs": [
        {
          "output_type": "stream",
          "name": "stdout",
          "text": [
            "According to the provided text, Clause 79 is related to dowry death.\n",
            "\n",
            "As per Clause 79, \"Dowry death\" refers to a situation where a woman dies under circumstances that suggest she was subjected to cruelty or harassment by her husband or any relative of her husband, and this abuse was in connection with a demand for dowry.\n",
            "\n",
            "The definition of dowry is given as follows: \"For the purposes of this sub-section, 'dowry' shall have the same meaning as in Section 2 of the Dowry Prohibition Act, 1961\".\n",
            "\n",
            "In terms of the circumstances surrounding the dowry death, the relevant information is that the woman was married and died under circumstances suggesting she was subjected to cruelty or harassment by her husband or his relatives.\n",
            "\n",
            "The penal code outlines a specific penalty for those found guilty of committing a dowry death: imprisonment for a term which shall not be less than seven years but which may extend to imprisonment for life, with fine.\n",
            "\n",
            "According to the clause, the husband or relative who causes the death is considered responsible for the crime.\n"
          ]
        }
      ],
      "source": [
        "print(rag(retrieved_documents, augmented_query, llm))"
      ]
    },
    {
      "cell_type": "markdown",
      "source": [
        "The output is evidently even better."
      ],
      "metadata": {
        "id": "ZTpcgaSrXVTF"
      }
    },
    {
      "cell_type": "code",
      "source": [],
      "metadata": {
        "id": "ZVcBI05ZXXjV"
      },
      "execution_count": null,
      "outputs": []
    }
  ],
  "metadata": {
    "accelerator": "GPU",
    "colab": {
      "gpuType": "T4",
      "provenance": []
    },
    "kernelspec": {
      "display_name": "Python 3",
      "name": "python3"
    },
    "language_info": {
      "name": "python"
    },
    "widgets": {
      "application/vnd.jupyter.widget-state+json": {
        "0c2cc2b808654ba4a2fa400670006e54": {
          "model_module": "@jupyter-widgets/controls",
          "model_name": "HBoxModel",
          "model_module_version": "1.5.0",
          "state": {
            "_dom_classes": [],
            "_model_module": "@jupyter-widgets/controls",
            "_model_module_version": "1.5.0",
            "_model_name": "HBoxModel",
            "_view_count": null,
            "_view_module": "@jupyter-widgets/controls",
            "_view_module_version": "1.5.0",
            "_view_name": "HBoxView",
            "box_style": "",
            "children": [
              "IPY_MODEL_00ca6357fb5d45fd84d43d8ab191a841",
              "IPY_MODEL_a6f1f8f30a624206b7efd821b31a257e",
              "IPY_MODEL_cd4d46a14dfe4d82a87eaf06fec62b08"
            ],
            "layout": "IPY_MODEL_814599e064fa4a97ae13b044d1cf16a9"
          }
        },
        "00ca6357fb5d45fd84d43d8ab191a841": {
          "model_module": "@jupyter-widgets/controls",
          "model_name": "HTMLModel",
          "model_module_version": "1.5.0",
          "state": {
            "_dom_classes": [],
            "_model_module": "@jupyter-widgets/controls",
            "_model_module_version": "1.5.0",
            "_model_name": "HTMLModel",
            "_view_count": null,
            "_view_module": "@jupyter-widgets/controls",
            "_view_module_version": "1.5.0",
            "_view_name": "HTMLView",
            "description": "",
            "description_tooltip": null,
            "layout": "IPY_MODEL_5a4bcff6a6b14b0cb8cd845f8056e3c3",
            "placeholder": "​",
            "style": "IPY_MODEL_b75d15bc929f4faf9f1abbbfeaaa4a5b",
            "value": "modules.json: 100%"
          }
        },
        "a6f1f8f30a624206b7efd821b31a257e": {
          "model_module": "@jupyter-widgets/controls",
          "model_name": "FloatProgressModel",
          "model_module_version": "1.5.0",
          "state": {
            "_dom_classes": [],
            "_model_module": "@jupyter-widgets/controls",
            "_model_module_version": "1.5.0",
            "_model_name": "FloatProgressModel",
            "_view_count": null,
            "_view_module": "@jupyter-widgets/controls",
            "_view_module_version": "1.5.0",
            "_view_name": "ProgressView",
            "bar_style": "success",
            "description": "",
            "description_tooltip": null,
            "layout": "IPY_MODEL_ba5bcf15b8594387a5c795961864db00",
            "max": 349,
            "min": 0,
            "orientation": "horizontal",
            "style": "IPY_MODEL_0a9116eae7f949ae8d3ee31c7017c728",
            "value": 349
          }
        },
        "cd4d46a14dfe4d82a87eaf06fec62b08": {
          "model_module": "@jupyter-widgets/controls",
          "model_name": "HTMLModel",
          "model_module_version": "1.5.0",
          "state": {
            "_dom_classes": [],
            "_model_module": "@jupyter-widgets/controls",
            "_model_module_version": "1.5.0",
            "_model_name": "HTMLModel",
            "_view_count": null,
            "_view_module": "@jupyter-widgets/controls",
            "_view_module_version": "1.5.0",
            "_view_name": "HTMLView",
            "description": "",
            "description_tooltip": null,
            "layout": "IPY_MODEL_46014b3bf87746dda3eec13144ec74dc",
            "placeholder": "​",
            "style": "IPY_MODEL_cb66b3e8ae8141b5b924f800b1d4854a",
            "value": " 349/349 [00:00&lt;00:00, 15.3kB/s]"
          }
        },
        "814599e064fa4a97ae13b044d1cf16a9": {
          "model_module": "@jupyter-widgets/base",
          "model_name": "LayoutModel",
          "model_module_version": "1.2.0",
          "state": {
            "_model_module": "@jupyter-widgets/base",
            "_model_module_version": "1.2.0",
            "_model_name": "LayoutModel",
            "_view_count": null,
            "_view_module": "@jupyter-widgets/base",
            "_view_module_version": "1.2.0",
            "_view_name": "LayoutView",
            "align_content": null,
            "align_items": null,
            "align_self": null,
            "border": null,
            "bottom": null,
            "display": null,
            "flex": null,
            "flex_flow": null,
            "grid_area": null,
            "grid_auto_columns": null,
            "grid_auto_flow": null,
            "grid_auto_rows": null,
            "grid_column": null,
            "grid_gap": null,
            "grid_row": null,
            "grid_template_areas": null,
            "grid_template_columns": null,
            "grid_template_rows": null,
            "height": null,
            "justify_content": null,
            "justify_items": null,
            "left": null,
            "margin": null,
            "max_height": null,
            "max_width": null,
            "min_height": null,
            "min_width": null,
            "object_fit": null,
            "object_position": null,
            "order": null,
            "overflow": null,
            "overflow_x": null,
            "overflow_y": null,
            "padding": null,
            "right": null,
            "top": null,
            "visibility": null,
            "width": null
          }
        },
        "5a4bcff6a6b14b0cb8cd845f8056e3c3": {
          "model_module": "@jupyter-widgets/base",
          "model_name": "LayoutModel",
          "model_module_version": "1.2.0",
          "state": {
            "_model_module": "@jupyter-widgets/base",
            "_model_module_version": "1.2.0",
            "_model_name": "LayoutModel",
            "_view_count": null,
            "_view_module": "@jupyter-widgets/base",
            "_view_module_version": "1.2.0",
            "_view_name": "LayoutView",
            "align_content": null,
            "align_items": null,
            "align_self": null,
            "border": null,
            "bottom": null,
            "display": null,
            "flex": null,
            "flex_flow": null,
            "grid_area": null,
            "grid_auto_columns": null,
            "grid_auto_flow": null,
            "grid_auto_rows": null,
            "grid_column": null,
            "grid_gap": null,
            "grid_row": null,
            "grid_template_areas": null,
            "grid_template_columns": null,
            "grid_template_rows": null,
            "height": null,
            "justify_content": null,
            "justify_items": null,
            "left": null,
            "margin": null,
            "max_height": null,
            "max_width": null,
            "min_height": null,
            "min_width": null,
            "object_fit": null,
            "object_position": null,
            "order": null,
            "overflow": null,
            "overflow_x": null,
            "overflow_y": null,
            "padding": null,
            "right": null,
            "top": null,
            "visibility": null,
            "width": null
          }
        },
        "b75d15bc929f4faf9f1abbbfeaaa4a5b": {
          "model_module": "@jupyter-widgets/controls",
          "model_name": "DescriptionStyleModel",
          "model_module_version": "1.5.0",
          "state": {
            "_model_module": "@jupyter-widgets/controls",
            "_model_module_version": "1.5.0",
            "_model_name": "DescriptionStyleModel",
            "_view_count": null,
            "_view_module": "@jupyter-widgets/base",
            "_view_module_version": "1.2.0",
            "_view_name": "StyleView",
            "description_width": ""
          }
        },
        "ba5bcf15b8594387a5c795961864db00": {
          "model_module": "@jupyter-widgets/base",
          "model_name": "LayoutModel",
          "model_module_version": "1.2.0",
          "state": {
            "_model_module": "@jupyter-widgets/base",
            "_model_module_version": "1.2.0",
            "_model_name": "LayoutModel",
            "_view_count": null,
            "_view_module": "@jupyter-widgets/base",
            "_view_module_version": "1.2.0",
            "_view_name": "LayoutView",
            "align_content": null,
            "align_items": null,
            "align_self": null,
            "border": null,
            "bottom": null,
            "display": null,
            "flex": null,
            "flex_flow": null,
            "grid_area": null,
            "grid_auto_columns": null,
            "grid_auto_flow": null,
            "grid_auto_rows": null,
            "grid_column": null,
            "grid_gap": null,
            "grid_row": null,
            "grid_template_areas": null,
            "grid_template_columns": null,
            "grid_template_rows": null,
            "height": null,
            "justify_content": null,
            "justify_items": null,
            "left": null,
            "margin": null,
            "max_height": null,
            "max_width": null,
            "min_height": null,
            "min_width": null,
            "object_fit": null,
            "object_position": null,
            "order": null,
            "overflow": null,
            "overflow_x": null,
            "overflow_y": null,
            "padding": null,
            "right": null,
            "top": null,
            "visibility": null,
            "width": null
          }
        },
        "0a9116eae7f949ae8d3ee31c7017c728": {
          "model_module": "@jupyter-widgets/controls",
          "model_name": "ProgressStyleModel",
          "model_module_version": "1.5.0",
          "state": {
            "_model_module": "@jupyter-widgets/controls",
            "_model_module_version": "1.5.0",
            "_model_name": "ProgressStyleModel",
            "_view_count": null,
            "_view_module": "@jupyter-widgets/base",
            "_view_module_version": "1.2.0",
            "_view_name": "StyleView",
            "bar_color": null,
            "description_width": ""
          }
        },
        "46014b3bf87746dda3eec13144ec74dc": {
          "model_module": "@jupyter-widgets/base",
          "model_name": "LayoutModel",
          "model_module_version": "1.2.0",
          "state": {
            "_model_module": "@jupyter-widgets/base",
            "_model_module_version": "1.2.0",
            "_model_name": "LayoutModel",
            "_view_count": null,
            "_view_module": "@jupyter-widgets/base",
            "_view_module_version": "1.2.0",
            "_view_name": "LayoutView",
            "align_content": null,
            "align_items": null,
            "align_self": null,
            "border": null,
            "bottom": null,
            "display": null,
            "flex": null,
            "flex_flow": null,
            "grid_area": null,
            "grid_auto_columns": null,
            "grid_auto_flow": null,
            "grid_auto_rows": null,
            "grid_column": null,
            "grid_gap": null,
            "grid_row": null,
            "grid_template_areas": null,
            "grid_template_columns": null,
            "grid_template_rows": null,
            "height": null,
            "justify_content": null,
            "justify_items": null,
            "left": null,
            "margin": null,
            "max_height": null,
            "max_width": null,
            "min_height": null,
            "min_width": null,
            "object_fit": null,
            "object_position": null,
            "order": null,
            "overflow": null,
            "overflow_x": null,
            "overflow_y": null,
            "padding": null,
            "right": null,
            "top": null,
            "visibility": null,
            "width": null
          }
        },
        "cb66b3e8ae8141b5b924f800b1d4854a": {
          "model_module": "@jupyter-widgets/controls",
          "model_name": "DescriptionStyleModel",
          "model_module_version": "1.5.0",
          "state": {
            "_model_module": "@jupyter-widgets/controls",
            "_model_module_version": "1.5.0",
            "_model_name": "DescriptionStyleModel",
            "_view_count": null,
            "_view_module": "@jupyter-widgets/base",
            "_view_module_version": "1.2.0",
            "_view_name": "StyleView",
            "description_width": ""
          }
        },
        "78a08ab7c67e4278bf0c5cf60ec60fa0": {
          "model_module": "@jupyter-widgets/controls",
          "model_name": "HBoxModel",
          "model_module_version": "1.5.0",
          "state": {
            "_dom_classes": [],
            "_model_module": "@jupyter-widgets/controls",
            "_model_module_version": "1.5.0",
            "_model_name": "HBoxModel",
            "_view_count": null,
            "_view_module": "@jupyter-widgets/controls",
            "_view_module_version": "1.5.0",
            "_view_name": "HBoxView",
            "box_style": "",
            "children": [
              "IPY_MODEL_b2f77b777c994404aba508845ee7403e",
              "IPY_MODEL_218db081ca964855a3187c9ee594ea03",
              "IPY_MODEL_0daf53c9590d4cf9b90a64e7b38ed130"
            ],
            "layout": "IPY_MODEL_af1e92634e944621a3e53b93815bee6e"
          }
        },
        "b2f77b777c994404aba508845ee7403e": {
          "model_module": "@jupyter-widgets/controls",
          "model_name": "HTMLModel",
          "model_module_version": "1.5.0",
          "state": {
            "_dom_classes": [],
            "_model_module": "@jupyter-widgets/controls",
            "_model_module_version": "1.5.0",
            "_model_name": "HTMLModel",
            "_view_count": null,
            "_view_module": "@jupyter-widgets/controls",
            "_view_module_version": "1.5.0",
            "_view_name": "HTMLView",
            "description": "",
            "description_tooltip": null,
            "layout": "IPY_MODEL_eb5365b04bd947fd93eddbde97a60568",
            "placeholder": "​",
            "style": "IPY_MODEL_1f0b322331174ad39296d08ab6eb39d1",
            "value": "config_sentence_transformers.json: 100%"
          }
        },
        "218db081ca964855a3187c9ee594ea03": {
          "model_module": "@jupyter-widgets/controls",
          "model_name": "FloatProgressModel",
          "model_module_version": "1.5.0",
          "state": {
            "_dom_classes": [],
            "_model_module": "@jupyter-widgets/controls",
            "_model_module_version": "1.5.0",
            "_model_name": "FloatProgressModel",
            "_view_count": null,
            "_view_module": "@jupyter-widgets/controls",
            "_view_module_version": "1.5.0",
            "_view_name": "ProgressView",
            "bar_style": "success",
            "description": "",
            "description_tooltip": null,
            "layout": "IPY_MODEL_5d45c46cd646481a9b14e1c9a4786a9c",
            "max": 116,
            "min": 0,
            "orientation": "horizontal",
            "style": "IPY_MODEL_982a9229294a44c380af9e448ad608b0",
            "value": 116
          }
        },
        "0daf53c9590d4cf9b90a64e7b38ed130": {
          "model_module": "@jupyter-widgets/controls",
          "model_name": "HTMLModel",
          "model_module_version": "1.5.0",
          "state": {
            "_dom_classes": [],
            "_model_module": "@jupyter-widgets/controls",
            "_model_module_version": "1.5.0",
            "_model_name": "HTMLModel",
            "_view_count": null,
            "_view_module": "@jupyter-widgets/controls",
            "_view_module_version": "1.5.0",
            "_view_name": "HTMLView",
            "description": "",
            "description_tooltip": null,
            "layout": "IPY_MODEL_4a8c6d1e46614c9a81ee3a463897238e",
            "placeholder": "​",
            "style": "IPY_MODEL_bf7d6670c2384ced892ff47dfa7ab9a7",
            "value": " 116/116 [00:00&lt;00:00, 4.60kB/s]"
          }
        },
        "af1e92634e944621a3e53b93815bee6e": {
          "model_module": "@jupyter-widgets/base",
          "model_name": "LayoutModel",
          "model_module_version": "1.2.0",
          "state": {
            "_model_module": "@jupyter-widgets/base",
            "_model_module_version": "1.2.0",
            "_model_name": "LayoutModel",
            "_view_count": null,
            "_view_module": "@jupyter-widgets/base",
            "_view_module_version": "1.2.0",
            "_view_name": "LayoutView",
            "align_content": null,
            "align_items": null,
            "align_self": null,
            "border": null,
            "bottom": null,
            "display": null,
            "flex": null,
            "flex_flow": null,
            "grid_area": null,
            "grid_auto_columns": null,
            "grid_auto_flow": null,
            "grid_auto_rows": null,
            "grid_column": null,
            "grid_gap": null,
            "grid_row": null,
            "grid_template_areas": null,
            "grid_template_columns": null,
            "grid_template_rows": null,
            "height": null,
            "justify_content": null,
            "justify_items": null,
            "left": null,
            "margin": null,
            "max_height": null,
            "max_width": null,
            "min_height": null,
            "min_width": null,
            "object_fit": null,
            "object_position": null,
            "order": null,
            "overflow": null,
            "overflow_x": null,
            "overflow_y": null,
            "padding": null,
            "right": null,
            "top": null,
            "visibility": null,
            "width": null
          }
        },
        "eb5365b04bd947fd93eddbde97a60568": {
          "model_module": "@jupyter-widgets/base",
          "model_name": "LayoutModel",
          "model_module_version": "1.2.0",
          "state": {
            "_model_module": "@jupyter-widgets/base",
            "_model_module_version": "1.2.0",
            "_model_name": "LayoutModel",
            "_view_count": null,
            "_view_module": "@jupyter-widgets/base",
            "_view_module_version": "1.2.0",
            "_view_name": "LayoutView",
            "align_content": null,
            "align_items": null,
            "align_self": null,
            "border": null,
            "bottom": null,
            "display": null,
            "flex": null,
            "flex_flow": null,
            "grid_area": null,
            "grid_auto_columns": null,
            "grid_auto_flow": null,
            "grid_auto_rows": null,
            "grid_column": null,
            "grid_gap": null,
            "grid_row": null,
            "grid_template_areas": null,
            "grid_template_columns": null,
            "grid_template_rows": null,
            "height": null,
            "justify_content": null,
            "justify_items": null,
            "left": null,
            "margin": null,
            "max_height": null,
            "max_width": null,
            "min_height": null,
            "min_width": null,
            "object_fit": null,
            "object_position": null,
            "order": null,
            "overflow": null,
            "overflow_x": null,
            "overflow_y": null,
            "padding": null,
            "right": null,
            "top": null,
            "visibility": null,
            "width": null
          }
        },
        "1f0b322331174ad39296d08ab6eb39d1": {
          "model_module": "@jupyter-widgets/controls",
          "model_name": "DescriptionStyleModel",
          "model_module_version": "1.5.0",
          "state": {
            "_model_module": "@jupyter-widgets/controls",
            "_model_module_version": "1.5.0",
            "_model_name": "DescriptionStyleModel",
            "_view_count": null,
            "_view_module": "@jupyter-widgets/base",
            "_view_module_version": "1.2.0",
            "_view_name": "StyleView",
            "description_width": ""
          }
        },
        "5d45c46cd646481a9b14e1c9a4786a9c": {
          "model_module": "@jupyter-widgets/base",
          "model_name": "LayoutModel",
          "model_module_version": "1.2.0",
          "state": {
            "_model_module": "@jupyter-widgets/base",
            "_model_module_version": "1.2.0",
            "_model_name": "LayoutModel",
            "_view_count": null,
            "_view_module": "@jupyter-widgets/base",
            "_view_module_version": "1.2.0",
            "_view_name": "LayoutView",
            "align_content": null,
            "align_items": null,
            "align_self": null,
            "border": null,
            "bottom": null,
            "display": null,
            "flex": null,
            "flex_flow": null,
            "grid_area": null,
            "grid_auto_columns": null,
            "grid_auto_flow": null,
            "grid_auto_rows": null,
            "grid_column": null,
            "grid_gap": null,
            "grid_row": null,
            "grid_template_areas": null,
            "grid_template_columns": null,
            "grid_template_rows": null,
            "height": null,
            "justify_content": null,
            "justify_items": null,
            "left": null,
            "margin": null,
            "max_height": null,
            "max_width": null,
            "min_height": null,
            "min_width": null,
            "object_fit": null,
            "object_position": null,
            "order": null,
            "overflow": null,
            "overflow_x": null,
            "overflow_y": null,
            "padding": null,
            "right": null,
            "top": null,
            "visibility": null,
            "width": null
          }
        },
        "982a9229294a44c380af9e448ad608b0": {
          "model_module": "@jupyter-widgets/controls",
          "model_name": "ProgressStyleModel",
          "model_module_version": "1.5.0",
          "state": {
            "_model_module": "@jupyter-widgets/controls",
            "_model_module_version": "1.5.0",
            "_model_name": "ProgressStyleModel",
            "_view_count": null,
            "_view_module": "@jupyter-widgets/base",
            "_view_module_version": "1.2.0",
            "_view_name": "StyleView",
            "bar_color": null,
            "description_width": ""
          }
        },
        "4a8c6d1e46614c9a81ee3a463897238e": {
          "model_module": "@jupyter-widgets/base",
          "model_name": "LayoutModel",
          "model_module_version": "1.2.0",
          "state": {
            "_model_module": "@jupyter-widgets/base",
            "_model_module_version": "1.2.0",
            "_model_name": "LayoutModel",
            "_view_count": null,
            "_view_module": "@jupyter-widgets/base",
            "_view_module_version": "1.2.0",
            "_view_name": "LayoutView",
            "align_content": null,
            "align_items": null,
            "align_self": null,
            "border": null,
            "bottom": null,
            "display": null,
            "flex": null,
            "flex_flow": null,
            "grid_area": null,
            "grid_auto_columns": null,
            "grid_auto_flow": null,
            "grid_auto_rows": null,
            "grid_column": null,
            "grid_gap": null,
            "grid_row": null,
            "grid_template_areas": null,
            "grid_template_columns": null,
            "grid_template_rows": null,
            "height": null,
            "justify_content": null,
            "justify_items": null,
            "left": null,
            "margin": null,
            "max_height": null,
            "max_width": null,
            "min_height": null,
            "min_width": null,
            "object_fit": null,
            "object_position": null,
            "order": null,
            "overflow": null,
            "overflow_x": null,
            "overflow_y": null,
            "padding": null,
            "right": null,
            "top": null,
            "visibility": null,
            "width": null
          }
        },
        "bf7d6670c2384ced892ff47dfa7ab9a7": {
          "model_module": "@jupyter-widgets/controls",
          "model_name": "DescriptionStyleModel",
          "model_module_version": "1.5.0",
          "state": {
            "_model_module": "@jupyter-widgets/controls",
            "_model_module_version": "1.5.0",
            "_model_name": "DescriptionStyleModel",
            "_view_count": null,
            "_view_module": "@jupyter-widgets/base",
            "_view_module_version": "1.2.0",
            "_view_name": "StyleView",
            "description_width": ""
          }
        },
        "ee6228218a0f4471ad45a6240ce8989c": {
          "model_module": "@jupyter-widgets/controls",
          "model_name": "HBoxModel",
          "model_module_version": "1.5.0",
          "state": {
            "_dom_classes": [],
            "_model_module": "@jupyter-widgets/controls",
            "_model_module_version": "1.5.0",
            "_model_name": "HBoxModel",
            "_view_count": null,
            "_view_module": "@jupyter-widgets/controls",
            "_view_module_version": "1.5.0",
            "_view_name": "HBoxView",
            "box_style": "",
            "children": [
              "IPY_MODEL_9f9e5b6341444bc391aebea263a9f287",
              "IPY_MODEL_f3acfe92c8a4419c987e5e138383c10d",
              "IPY_MODEL_6abbdee81c434970bf34b0979b00f6de"
            ],
            "layout": "IPY_MODEL_fe51329ef5224ff9876e92784a55f45a"
          }
        },
        "9f9e5b6341444bc391aebea263a9f287": {
          "model_module": "@jupyter-widgets/controls",
          "model_name": "HTMLModel",
          "model_module_version": "1.5.0",
          "state": {
            "_dom_classes": [],
            "_model_module": "@jupyter-widgets/controls",
            "_model_module_version": "1.5.0",
            "_model_name": "HTMLModel",
            "_view_count": null,
            "_view_module": "@jupyter-widgets/controls",
            "_view_module_version": "1.5.0",
            "_view_name": "HTMLView",
            "description": "",
            "description_tooltip": null,
            "layout": "IPY_MODEL_c427c5aedd3b49d4b32ada3f8ec284f3",
            "placeholder": "​",
            "style": "IPY_MODEL_259a7713946a4c0baad57be521954c76",
            "value": "README.md: 100%"
          }
        },
        "f3acfe92c8a4419c987e5e138383c10d": {
          "model_module": "@jupyter-widgets/controls",
          "model_name": "FloatProgressModel",
          "model_module_version": "1.5.0",
          "state": {
            "_dom_classes": [],
            "_model_module": "@jupyter-widgets/controls",
            "_model_module_version": "1.5.0",
            "_model_name": "FloatProgressModel",
            "_view_count": null,
            "_view_module": "@jupyter-widgets/controls",
            "_view_module_version": "1.5.0",
            "_view_name": "ProgressView",
            "bar_style": "success",
            "description": "",
            "description_tooltip": null,
            "layout": "IPY_MODEL_aa13020c81c247a686bbbfef0a263be6",
            "max": 10659,
            "min": 0,
            "orientation": "horizontal",
            "style": "IPY_MODEL_5178484989ae4665a21fad899cf813b5",
            "value": 10659
          }
        },
        "6abbdee81c434970bf34b0979b00f6de": {
          "model_module": "@jupyter-widgets/controls",
          "model_name": "HTMLModel",
          "model_module_version": "1.5.0",
          "state": {
            "_dom_classes": [],
            "_model_module": "@jupyter-widgets/controls",
            "_model_module_version": "1.5.0",
            "_model_name": "HTMLModel",
            "_view_count": null,
            "_view_module": "@jupyter-widgets/controls",
            "_view_module_version": "1.5.0",
            "_view_name": "HTMLView",
            "description": "",
            "description_tooltip": null,
            "layout": "IPY_MODEL_0de0e666d0644d55bf4133e6acca59d8",
            "placeholder": "​",
            "style": "IPY_MODEL_79d9bafa74ac4597b624b8e32ae07938",
            "value": " 10.7k/10.7k [00:00&lt;00:00, 427kB/s]"
          }
        },
        "fe51329ef5224ff9876e92784a55f45a": {
          "model_module": "@jupyter-widgets/base",
          "model_name": "LayoutModel",
          "model_module_version": "1.2.0",
          "state": {
            "_model_module": "@jupyter-widgets/base",
            "_model_module_version": "1.2.0",
            "_model_name": "LayoutModel",
            "_view_count": null,
            "_view_module": "@jupyter-widgets/base",
            "_view_module_version": "1.2.0",
            "_view_name": "LayoutView",
            "align_content": null,
            "align_items": null,
            "align_self": null,
            "border": null,
            "bottom": null,
            "display": null,
            "flex": null,
            "flex_flow": null,
            "grid_area": null,
            "grid_auto_columns": null,
            "grid_auto_flow": null,
            "grid_auto_rows": null,
            "grid_column": null,
            "grid_gap": null,
            "grid_row": null,
            "grid_template_areas": null,
            "grid_template_columns": null,
            "grid_template_rows": null,
            "height": null,
            "justify_content": null,
            "justify_items": null,
            "left": null,
            "margin": null,
            "max_height": null,
            "max_width": null,
            "min_height": null,
            "min_width": null,
            "object_fit": null,
            "object_position": null,
            "order": null,
            "overflow": null,
            "overflow_x": null,
            "overflow_y": null,
            "padding": null,
            "right": null,
            "top": null,
            "visibility": null,
            "width": null
          }
        },
        "c427c5aedd3b49d4b32ada3f8ec284f3": {
          "model_module": "@jupyter-widgets/base",
          "model_name": "LayoutModel",
          "model_module_version": "1.2.0",
          "state": {
            "_model_module": "@jupyter-widgets/base",
            "_model_module_version": "1.2.0",
            "_model_name": "LayoutModel",
            "_view_count": null,
            "_view_module": "@jupyter-widgets/base",
            "_view_module_version": "1.2.0",
            "_view_name": "LayoutView",
            "align_content": null,
            "align_items": null,
            "align_self": null,
            "border": null,
            "bottom": null,
            "display": null,
            "flex": null,
            "flex_flow": null,
            "grid_area": null,
            "grid_auto_columns": null,
            "grid_auto_flow": null,
            "grid_auto_rows": null,
            "grid_column": null,
            "grid_gap": null,
            "grid_row": null,
            "grid_template_areas": null,
            "grid_template_columns": null,
            "grid_template_rows": null,
            "height": null,
            "justify_content": null,
            "justify_items": null,
            "left": null,
            "margin": null,
            "max_height": null,
            "max_width": null,
            "min_height": null,
            "min_width": null,
            "object_fit": null,
            "object_position": null,
            "order": null,
            "overflow": null,
            "overflow_x": null,
            "overflow_y": null,
            "padding": null,
            "right": null,
            "top": null,
            "visibility": null,
            "width": null
          }
        },
        "259a7713946a4c0baad57be521954c76": {
          "model_module": "@jupyter-widgets/controls",
          "model_name": "DescriptionStyleModel",
          "model_module_version": "1.5.0",
          "state": {
            "_model_module": "@jupyter-widgets/controls",
            "_model_module_version": "1.5.0",
            "_model_name": "DescriptionStyleModel",
            "_view_count": null,
            "_view_module": "@jupyter-widgets/base",
            "_view_module_version": "1.2.0",
            "_view_name": "StyleView",
            "description_width": ""
          }
        },
        "aa13020c81c247a686bbbfef0a263be6": {
          "model_module": "@jupyter-widgets/base",
          "model_name": "LayoutModel",
          "model_module_version": "1.2.0",
          "state": {
            "_model_module": "@jupyter-widgets/base",
            "_model_module_version": "1.2.0",
            "_model_name": "LayoutModel",
            "_view_count": null,
            "_view_module": "@jupyter-widgets/base",
            "_view_module_version": "1.2.0",
            "_view_name": "LayoutView",
            "align_content": null,
            "align_items": null,
            "align_self": null,
            "border": null,
            "bottom": null,
            "display": null,
            "flex": null,
            "flex_flow": null,
            "grid_area": null,
            "grid_auto_columns": null,
            "grid_auto_flow": null,
            "grid_auto_rows": null,
            "grid_column": null,
            "grid_gap": null,
            "grid_row": null,
            "grid_template_areas": null,
            "grid_template_columns": null,
            "grid_template_rows": null,
            "height": null,
            "justify_content": null,
            "justify_items": null,
            "left": null,
            "margin": null,
            "max_height": null,
            "max_width": null,
            "min_height": null,
            "min_width": null,
            "object_fit": null,
            "object_position": null,
            "order": null,
            "overflow": null,
            "overflow_x": null,
            "overflow_y": null,
            "padding": null,
            "right": null,
            "top": null,
            "visibility": null,
            "width": null
          }
        },
        "5178484989ae4665a21fad899cf813b5": {
          "model_module": "@jupyter-widgets/controls",
          "model_name": "ProgressStyleModel",
          "model_module_version": "1.5.0",
          "state": {
            "_model_module": "@jupyter-widgets/controls",
            "_model_module_version": "1.5.0",
            "_model_name": "ProgressStyleModel",
            "_view_count": null,
            "_view_module": "@jupyter-widgets/base",
            "_view_module_version": "1.2.0",
            "_view_name": "StyleView",
            "bar_color": null,
            "description_width": ""
          }
        },
        "0de0e666d0644d55bf4133e6acca59d8": {
          "model_module": "@jupyter-widgets/base",
          "model_name": "LayoutModel",
          "model_module_version": "1.2.0",
          "state": {
            "_model_module": "@jupyter-widgets/base",
            "_model_module_version": "1.2.0",
            "_model_name": "LayoutModel",
            "_view_count": null,
            "_view_module": "@jupyter-widgets/base",
            "_view_module_version": "1.2.0",
            "_view_name": "LayoutView",
            "align_content": null,
            "align_items": null,
            "align_self": null,
            "border": null,
            "bottom": null,
            "display": null,
            "flex": null,
            "flex_flow": null,
            "grid_area": null,
            "grid_auto_columns": null,
            "grid_auto_flow": null,
            "grid_auto_rows": null,
            "grid_column": null,
            "grid_gap": null,
            "grid_row": null,
            "grid_template_areas": null,
            "grid_template_columns": null,
            "grid_template_rows": null,
            "height": null,
            "justify_content": null,
            "justify_items": null,
            "left": null,
            "margin": null,
            "max_height": null,
            "max_width": null,
            "min_height": null,
            "min_width": null,
            "object_fit": null,
            "object_position": null,
            "order": null,
            "overflow": null,
            "overflow_x": null,
            "overflow_y": null,
            "padding": null,
            "right": null,
            "top": null,
            "visibility": null,
            "width": null
          }
        },
        "79d9bafa74ac4597b624b8e32ae07938": {
          "model_module": "@jupyter-widgets/controls",
          "model_name": "DescriptionStyleModel",
          "model_module_version": "1.5.0",
          "state": {
            "_model_module": "@jupyter-widgets/controls",
            "_model_module_version": "1.5.0",
            "_model_name": "DescriptionStyleModel",
            "_view_count": null,
            "_view_module": "@jupyter-widgets/base",
            "_view_module_version": "1.2.0",
            "_view_name": "StyleView",
            "description_width": ""
          }
        },
        "d298b9d22b3f4c58bfb1fc2f4e66f838": {
          "model_module": "@jupyter-widgets/controls",
          "model_name": "HBoxModel",
          "model_module_version": "1.5.0",
          "state": {
            "_dom_classes": [],
            "_model_module": "@jupyter-widgets/controls",
            "_model_module_version": "1.5.0",
            "_model_name": "HBoxModel",
            "_view_count": null,
            "_view_module": "@jupyter-widgets/controls",
            "_view_module_version": "1.5.0",
            "_view_name": "HBoxView",
            "box_style": "",
            "children": [
              "IPY_MODEL_a256274a4cf54f91b6dc6b61778aeb79",
              "IPY_MODEL_eec26d9be84a45049be0dfc545f63379",
              "IPY_MODEL_9e80e2dbdf3c45efb1a04c8b643c20e3"
            ],
            "layout": "IPY_MODEL_d68727840cec4e14b626181ed56f6a09"
          }
        },
        "a256274a4cf54f91b6dc6b61778aeb79": {
          "model_module": "@jupyter-widgets/controls",
          "model_name": "HTMLModel",
          "model_module_version": "1.5.0",
          "state": {
            "_dom_classes": [],
            "_model_module": "@jupyter-widgets/controls",
            "_model_module_version": "1.5.0",
            "_model_name": "HTMLModel",
            "_view_count": null,
            "_view_module": "@jupyter-widgets/controls",
            "_view_module_version": "1.5.0",
            "_view_name": "HTMLView",
            "description": "",
            "description_tooltip": null,
            "layout": "IPY_MODEL_4bf80c8d8eb7478ca389f3dcd1f0e515",
            "placeholder": "​",
            "style": "IPY_MODEL_febe0079774f4d2f8a7e7db59a0a1e06",
            "value": "sentence_bert_config.json: 100%"
          }
        },
        "eec26d9be84a45049be0dfc545f63379": {
          "model_module": "@jupyter-widgets/controls",
          "model_name": "FloatProgressModel",
          "model_module_version": "1.5.0",
          "state": {
            "_dom_classes": [],
            "_model_module": "@jupyter-widgets/controls",
            "_model_module_version": "1.5.0",
            "_model_name": "FloatProgressModel",
            "_view_count": null,
            "_view_module": "@jupyter-widgets/controls",
            "_view_module_version": "1.5.0",
            "_view_name": "ProgressView",
            "bar_style": "success",
            "description": "",
            "description_tooltip": null,
            "layout": "IPY_MODEL_b28e7dbf05f448b4bf8744a087443fd9",
            "max": 53,
            "min": 0,
            "orientation": "horizontal",
            "style": "IPY_MODEL_f9240bda55fa4124988cac66ca549dc1",
            "value": 53
          }
        },
        "9e80e2dbdf3c45efb1a04c8b643c20e3": {
          "model_module": "@jupyter-widgets/controls",
          "model_name": "HTMLModel",
          "model_module_version": "1.5.0",
          "state": {
            "_dom_classes": [],
            "_model_module": "@jupyter-widgets/controls",
            "_model_module_version": "1.5.0",
            "_model_name": "HTMLModel",
            "_view_count": null,
            "_view_module": "@jupyter-widgets/controls",
            "_view_module_version": "1.5.0",
            "_view_name": "HTMLView",
            "description": "",
            "description_tooltip": null,
            "layout": "IPY_MODEL_813b4e763d3e467da4995990278f66e6",
            "placeholder": "​",
            "style": "IPY_MODEL_2412b45ee3b849529a0f82af23610f26",
            "value": " 53.0/53.0 [00:00&lt;00:00, 2.76kB/s]"
          }
        },
        "d68727840cec4e14b626181ed56f6a09": {
          "model_module": "@jupyter-widgets/base",
          "model_name": "LayoutModel",
          "model_module_version": "1.2.0",
          "state": {
            "_model_module": "@jupyter-widgets/base",
            "_model_module_version": "1.2.0",
            "_model_name": "LayoutModel",
            "_view_count": null,
            "_view_module": "@jupyter-widgets/base",
            "_view_module_version": "1.2.0",
            "_view_name": "LayoutView",
            "align_content": null,
            "align_items": null,
            "align_self": null,
            "border": null,
            "bottom": null,
            "display": null,
            "flex": null,
            "flex_flow": null,
            "grid_area": null,
            "grid_auto_columns": null,
            "grid_auto_flow": null,
            "grid_auto_rows": null,
            "grid_column": null,
            "grid_gap": null,
            "grid_row": null,
            "grid_template_areas": null,
            "grid_template_columns": null,
            "grid_template_rows": null,
            "height": null,
            "justify_content": null,
            "justify_items": null,
            "left": null,
            "margin": null,
            "max_height": null,
            "max_width": null,
            "min_height": null,
            "min_width": null,
            "object_fit": null,
            "object_position": null,
            "order": null,
            "overflow": null,
            "overflow_x": null,
            "overflow_y": null,
            "padding": null,
            "right": null,
            "top": null,
            "visibility": null,
            "width": null
          }
        },
        "4bf80c8d8eb7478ca389f3dcd1f0e515": {
          "model_module": "@jupyter-widgets/base",
          "model_name": "LayoutModel",
          "model_module_version": "1.2.0",
          "state": {
            "_model_module": "@jupyter-widgets/base",
            "_model_module_version": "1.2.0",
            "_model_name": "LayoutModel",
            "_view_count": null,
            "_view_module": "@jupyter-widgets/base",
            "_view_module_version": "1.2.0",
            "_view_name": "LayoutView",
            "align_content": null,
            "align_items": null,
            "align_self": null,
            "border": null,
            "bottom": null,
            "display": null,
            "flex": null,
            "flex_flow": null,
            "grid_area": null,
            "grid_auto_columns": null,
            "grid_auto_flow": null,
            "grid_auto_rows": null,
            "grid_column": null,
            "grid_gap": null,
            "grid_row": null,
            "grid_template_areas": null,
            "grid_template_columns": null,
            "grid_template_rows": null,
            "height": null,
            "justify_content": null,
            "justify_items": null,
            "left": null,
            "margin": null,
            "max_height": null,
            "max_width": null,
            "min_height": null,
            "min_width": null,
            "object_fit": null,
            "object_position": null,
            "order": null,
            "overflow": null,
            "overflow_x": null,
            "overflow_y": null,
            "padding": null,
            "right": null,
            "top": null,
            "visibility": null,
            "width": null
          }
        },
        "febe0079774f4d2f8a7e7db59a0a1e06": {
          "model_module": "@jupyter-widgets/controls",
          "model_name": "DescriptionStyleModel",
          "model_module_version": "1.5.0",
          "state": {
            "_model_module": "@jupyter-widgets/controls",
            "_model_module_version": "1.5.0",
            "_model_name": "DescriptionStyleModel",
            "_view_count": null,
            "_view_module": "@jupyter-widgets/base",
            "_view_module_version": "1.2.0",
            "_view_name": "StyleView",
            "description_width": ""
          }
        },
        "b28e7dbf05f448b4bf8744a087443fd9": {
          "model_module": "@jupyter-widgets/base",
          "model_name": "LayoutModel",
          "model_module_version": "1.2.0",
          "state": {
            "_model_module": "@jupyter-widgets/base",
            "_model_module_version": "1.2.0",
            "_model_name": "LayoutModel",
            "_view_count": null,
            "_view_module": "@jupyter-widgets/base",
            "_view_module_version": "1.2.0",
            "_view_name": "LayoutView",
            "align_content": null,
            "align_items": null,
            "align_self": null,
            "border": null,
            "bottom": null,
            "display": null,
            "flex": null,
            "flex_flow": null,
            "grid_area": null,
            "grid_auto_columns": null,
            "grid_auto_flow": null,
            "grid_auto_rows": null,
            "grid_column": null,
            "grid_gap": null,
            "grid_row": null,
            "grid_template_areas": null,
            "grid_template_columns": null,
            "grid_template_rows": null,
            "height": null,
            "justify_content": null,
            "justify_items": null,
            "left": null,
            "margin": null,
            "max_height": null,
            "max_width": null,
            "min_height": null,
            "min_width": null,
            "object_fit": null,
            "object_position": null,
            "order": null,
            "overflow": null,
            "overflow_x": null,
            "overflow_y": null,
            "padding": null,
            "right": null,
            "top": null,
            "visibility": null,
            "width": null
          }
        },
        "f9240bda55fa4124988cac66ca549dc1": {
          "model_module": "@jupyter-widgets/controls",
          "model_name": "ProgressStyleModel",
          "model_module_version": "1.5.0",
          "state": {
            "_model_module": "@jupyter-widgets/controls",
            "_model_module_version": "1.5.0",
            "_model_name": "ProgressStyleModel",
            "_view_count": null,
            "_view_module": "@jupyter-widgets/base",
            "_view_module_version": "1.2.0",
            "_view_name": "StyleView",
            "bar_color": null,
            "description_width": ""
          }
        },
        "813b4e763d3e467da4995990278f66e6": {
          "model_module": "@jupyter-widgets/base",
          "model_name": "LayoutModel",
          "model_module_version": "1.2.0",
          "state": {
            "_model_module": "@jupyter-widgets/base",
            "_model_module_version": "1.2.0",
            "_model_name": "LayoutModel",
            "_view_count": null,
            "_view_module": "@jupyter-widgets/base",
            "_view_module_version": "1.2.0",
            "_view_name": "LayoutView",
            "align_content": null,
            "align_items": null,
            "align_self": null,
            "border": null,
            "bottom": null,
            "display": null,
            "flex": null,
            "flex_flow": null,
            "grid_area": null,
            "grid_auto_columns": null,
            "grid_auto_flow": null,
            "grid_auto_rows": null,
            "grid_column": null,
            "grid_gap": null,
            "grid_row": null,
            "grid_template_areas": null,
            "grid_template_columns": null,
            "grid_template_rows": null,
            "height": null,
            "justify_content": null,
            "justify_items": null,
            "left": null,
            "margin": null,
            "max_height": null,
            "max_width": null,
            "min_height": null,
            "min_width": null,
            "object_fit": null,
            "object_position": null,
            "order": null,
            "overflow": null,
            "overflow_x": null,
            "overflow_y": null,
            "padding": null,
            "right": null,
            "top": null,
            "visibility": null,
            "width": null
          }
        },
        "2412b45ee3b849529a0f82af23610f26": {
          "model_module": "@jupyter-widgets/controls",
          "model_name": "DescriptionStyleModel",
          "model_module_version": "1.5.0",
          "state": {
            "_model_module": "@jupyter-widgets/controls",
            "_model_module_version": "1.5.0",
            "_model_name": "DescriptionStyleModel",
            "_view_count": null,
            "_view_module": "@jupyter-widgets/base",
            "_view_module_version": "1.2.0",
            "_view_name": "StyleView",
            "description_width": ""
          }
        },
        "bd6ccc4eb9a645e7875c58266905f848": {
          "model_module": "@jupyter-widgets/controls",
          "model_name": "HBoxModel",
          "model_module_version": "1.5.0",
          "state": {
            "_dom_classes": [],
            "_model_module": "@jupyter-widgets/controls",
            "_model_module_version": "1.5.0",
            "_model_name": "HBoxModel",
            "_view_count": null,
            "_view_module": "@jupyter-widgets/controls",
            "_view_module_version": "1.5.0",
            "_view_name": "HBoxView",
            "box_style": "",
            "children": [
              "IPY_MODEL_cc5aa6b6efa34b62a85ef463532b461a",
              "IPY_MODEL_4f2c404d106849748fdf6e45645fc528",
              "IPY_MODEL_16fea0729b0f4d8bb41f22fbf7995837"
            ],
            "layout": "IPY_MODEL_58537b8f98b14fc9b144c5949cc8e502"
          }
        },
        "cc5aa6b6efa34b62a85ef463532b461a": {
          "model_module": "@jupyter-widgets/controls",
          "model_name": "HTMLModel",
          "model_module_version": "1.5.0",
          "state": {
            "_dom_classes": [],
            "_model_module": "@jupyter-widgets/controls",
            "_model_module_version": "1.5.0",
            "_model_name": "HTMLModel",
            "_view_count": null,
            "_view_module": "@jupyter-widgets/controls",
            "_view_module_version": "1.5.0",
            "_view_name": "HTMLView",
            "description": "",
            "description_tooltip": null,
            "layout": "IPY_MODEL_693069fe1bda44b794f3e1aeaeae7d2d",
            "placeholder": "​",
            "style": "IPY_MODEL_e74fc2d8546a4e43b495630f58305c89",
            "value": "config.json: 100%"
          }
        },
        "4f2c404d106849748fdf6e45645fc528": {
          "model_module": "@jupyter-widgets/controls",
          "model_name": "FloatProgressModel",
          "model_module_version": "1.5.0",
          "state": {
            "_dom_classes": [],
            "_model_module": "@jupyter-widgets/controls",
            "_model_module_version": "1.5.0",
            "_model_name": "FloatProgressModel",
            "_view_count": null,
            "_view_module": "@jupyter-widgets/controls",
            "_view_module_version": "1.5.0",
            "_view_name": "ProgressView",
            "bar_style": "success",
            "description": "",
            "description_tooltip": null,
            "layout": "IPY_MODEL_25a00466073b4c1b8790bce7f6e89eb9",
            "max": 612,
            "min": 0,
            "orientation": "horizontal",
            "style": "IPY_MODEL_623d2d9b2dfb404da6a7287268eb154c",
            "value": 612
          }
        },
        "16fea0729b0f4d8bb41f22fbf7995837": {
          "model_module": "@jupyter-widgets/controls",
          "model_name": "HTMLModel",
          "model_module_version": "1.5.0",
          "state": {
            "_dom_classes": [],
            "_model_module": "@jupyter-widgets/controls",
            "_model_module_version": "1.5.0",
            "_model_name": "HTMLModel",
            "_view_count": null,
            "_view_module": "@jupyter-widgets/controls",
            "_view_module_version": "1.5.0",
            "_view_name": "HTMLView",
            "description": "",
            "description_tooltip": null,
            "layout": "IPY_MODEL_c46773c10f594c25b13ac636703615f7",
            "placeholder": "​",
            "style": "IPY_MODEL_1a7e7d0efbf54fd8a0ed42c23782346f",
            "value": " 612/612 [00:00&lt;00:00, 28.9kB/s]"
          }
        },
        "58537b8f98b14fc9b144c5949cc8e502": {
          "model_module": "@jupyter-widgets/base",
          "model_name": "LayoutModel",
          "model_module_version": "1.2.0",
          "state": {
            "_model_module": "@jupyter-widgets/base",
            "_model_module_version": "1.2.0",
            "_model_name": "LayoutModel",
            "_view_count": null,
            "_view_module": "@jupyter-widgets/base",
            "_view_module_version": "1.2.0",
            "_view_name": "LayoutView",
            "align_content": null,
            "align_items": null,
            "align_self": null,
            "border": null,
            "bottom": null,
            "display": null,
            "flex": null,
            "flex_flow": null,
            "grid_area": null,
            "grid_auto_columns": null,
            "grid_auto_flow": null,
            "grid_auto_rows": null,
            "grid_column": null,
            "grid_gap": null,
            "grid_row": null,
            "grid_template_areas": null,
            "grid_template_columns": null,
            "grid_template_rows": null,
            "height": null,
            "justify_content": null,
            "justify_items": null,
            "left": null,
            "margin": null,
            "max_height": null,
            "max_width": null,
            "min_height": null,
            "min_width": null,
            "object_fit": null,
            "object_position": null,
            "order": null,
            "overflow": null,
            "overflow_x": null,
            "overflow_y": null,
            "padding": null,
            "right": null,
            "top": null,
            "visibility": null,
            "width": null
          }
        },
        "693069fe1bda44b794f3e1aeaeae7d2d": {
          "model_module": "@jupyter-widgets/base",
          "model_name": "LayoutModel",
          "model_module_version": "1.2.0",
          "state": {
            "_model_module": "@jupyter-widgets/base",
            "_model_module_version": "1.2.0",
            "_model_name": "LayoutModel",
            "_view_count": null,
            "_view_module": "@jupyter-widgets/base",
            "_view_module_version": "1.2.0",
            "_view_name": "LayoutView",
            "align_content": null,
            "align_items": null,
            "align_self": null,
            "border": null,
            "bottom": null,
            "display": null,
            "flex": null,
            "flex_flow": null,
            "grid_area": null,
            "grid_auto_columns": null,
            "grid_auto_flow": null,
            "grid_auto_rows": null,
            "grid_column": null,
            "grid_gap": null,
            "grid_row": null,
            "grid_template_areas": null,
            "grid_template_columns": null,
            "grid_template_rows": null,
            "height": null,
            "justify_content": null,
            "justify_items": null,
            "left": null,
            "margin": null,
            "max_height": null,
            "max_width": null,
            "min_height": null,
            "min_width": null,
            "object_fit": null,
            "object_position": null,
            "order": null,
            "overflow": null,
            "overflow_x": null,
            "overflow_y": null,
            "padding": null,
            "right": null,
            "top": null,
            "visibility": null,
            "width": null
          }
        },
        "e74fc2d8546a4e43b495630f58305c89": {
          "model_module": "@jupyter-widgets/controls",
          "model_name": "DescriptionStyleModel",
          "model_module_version": "1.5.0",
          "state": {
            "_model_module": "@jupyter-widgets/controls",
            "_model_module_version": "1.5.0",
            "_model_name": "DescriptionStyleModel",
            "_view_count": null,
            "_view_module": "@jupyter-widgets/base",
            "_view_module_version": "1.2.0",
            "_view_name": "StyleView",
            "description_width": ""
          }
        },
        "25a00466073b4c1b8790bce7f6e89eb9": {
          "model_module": "@jupyter-widgets/base",
          "model_name": "LayoutModel",
          "model_module_version": "1.2.0",
          "state": {
            "_model_module": "@jupyter-widgets/base",
            "_model_module_version": "1.2.0",
            "_model_name": "LayoutModel",
            "_view_count": null,
            "_view_module": "@jupyter-widgets/base",
            "_view_module_version": "1.2.0",
            "_view_name": "LayoutView",
            "align_content": null,
            "align_items": null,
            "align_self": null,
            "border": null,
            "bottom": null,
            "display": null,
            "flex": null,
            "flex_flow": null,
            "grid_area": null,
            "grid_auto_columns": null,
            "grid_auto_flow": null,
            "grid_auto_rows": null,
            "grid_column": null,
            "grid_gap": null,
            "grid_row": null,
            "grid_template_areas": null,
            "grid_template_columns": null,
            "grid_template_rows": null,
            "height": null,
            "justify_content": null,
            "justify_items": null,
            "left": null,
            "margin": null,
            "max_height": null,
            "max_width": null,
            "min_height": null,
            "min_width": null,
            "object_fit": null,
            "object_position": null,
            "order": null,
            "overflow": null,
            "overflow_x": null,
            "overflow_y": null,
            "padding": null,
            "right": null,
            "top": null,
            "visibility": null,
            "width": null
          }
        },
        "623d2d9b2dfb404da6a7287268eb154c": {
          "model_module": "@jupyter-widgets/controls",
          "model_name": "ProgressStyleModel",
          "model_module_version": "1.5.0",
          "state": {
            "_model_module": "@jupyter-widgets/controls",
            "_model_module_version": "1.5.0",
            "_model_name": "ProgressStyleModel",
            "_view_count": null,
            "_view_module": "@jupyter-widgets/base",
            "_view_module_version": "1.2.0",
            "_view_name": "StyleView",
            "bar_color": null,
            "description_width": ""
          }
        },
        "c46773c10f594c25b13ac636703615f7": {
          "model_module": "@jupyter-widgets/base",
          "model_name": "LayoutModel",
          "model_module_version": "1.2.0",
          "state": {
            "_model_module": "@jupyter-widgets/base",
            "_model_module_version": "1.2.0",
            "_model_name": "LayoutModel",
            "_view_count": null,
            "_view_module": "@jupyter-widgets/base",
            "_view_module_version": "1.2.0",
            "_view_name": "LayoutView",
            "align_content": null,
            "align_items": null,
            "align_self": null,
            "border": null,
            "bottom": null,
            "display": null,
            "flex": null,
            "flex_flow": null,
            "grid_area": null,
            "grid_auto_columns": null,
            "grid_auto_flow": null,
            "grid_auto_rows": null,
            "grid_column": null,
            "grid_gap": null,
            "grid_row": null,
            "grid_template_areas": null,
            "grid_template_columns": null,
            "grid_template_rows": null,
            "height": null,
            "justify_content": null,
            "justify_items": null,
            "left": null,
            "margin": null,
            "max_height": null,
            "max_width": null,
            "min_height": null,
            "min_width": null,
            "object_fit": null,
            "object_position": null,
            "order": null,
            "overflow": null,
            "overflow_x": null,
            "overflow_y": null,
            "padding": null,
            "right": null,
            "top": null,
            "visibility": null,
            "width": null
          }
        },
        "1a7e7d0efbf54fd8a0ed42c23782346f": {
          "model_module": "@jupyter-widgets/controls",
          "model_name": "DescriptionStyleModel",
          "model_module_version": "1.5.0",
          "state": {
            "_model_module": "@jupyter-widgets/controls",
            "_model_module_version": "1.5.0",
            "_model_name": "DescriptionStyleModel",
            "_view_count": null,
            "_view_module": "@jupyter-widgets/base",
            "_view_module_version": "1.2.0",
            "_view_name": "StyleView",
            "description_width": ""
          }
        },
        "9da98813dce049a5ad7fa0420065c2b6": {
          "model_module": "@jupyter-widgets/controls",
          "model_name": "HBoxModel",
          "model_module_version": "1.5.0",
          "state": {
            "_dom_classes": [],
            "_model_module": "@jupyter-widgets/controls",
            "_model_module_version": "1.5.0",
            "_model_name": "HBoxModel",
            "_view_count": null,
            "_view_module": "@jupyter-widgets/controls",
            "_view_module_version": "1.5.0",
            "_view_name": "HBoxView",
            "box_style": "",
            "children": [
              "IPY_MODEL_d580d3f0d5874efb83c7e0ab335e35ae",
              "IPY_MODEL_63787fd8b4354fb7bd29ecb545253c34",
              "IPY_MODEL_2e325b78e9394f0fb82e87ff6d7d68f2"
            ],
            "layout": "IPY_MODEL_7a16684d86104555b95c683b6c76a86b"
          }
        },
        "d580d3f0d5874efb83c7e0ab335e35ae": {
          "model_module": "@jupyter-widgets/controls",
          "model_name": "HTMLModel",
          "model_module_version": "1.5.0",
          "state": {
            "_dom_classes": [],
            "_model_module": "@jupyter-widgets/controls",
            "_model_module_version": "1.5.0",
            "_model_name": "HTMLModel",
            "_view_count": null,
            "_view_module": "@jupyter-widgets/controls",
            "_view_module_version": "1.5.0",
            "_view_name": "HTMLView",
            "description": "",
            "description_tooltip": null,
            "layout": "IPY_MODEL_a4fc362d79fc422086cdb2b66e2fe363",
            "placeholder": "​",
            "style": "IPY_MODEL_e872e44b30734aeba9fdee69650b8295",
            "value": "model.safetensors: 100%"
          }
        },
        "63787fd8b4354fb7bd29ecb545253c34": {
          "model_module": "@jupyter-widgets/controls",
          "model_name": "FloatProgressModel",
          "model_module_version": "1.5.0",
          "state": {
            "_dom_classes": [],
            "_model_module": "@jupyter-widgets/controls",
            "_model_module_version": "1.5.0",
            "_model_name": "FloatProgressModel",
            "_view_count": null,
            "_view_module": "@jupyter-widgets/controls",
            "_view_module_version": "1.5.0",
            "_view_name": "ProgressView",
            "bar_style": "success",
            "description": "",
            "description_tooltip": null,
            "layout": "IPY_MODEL_0ee4316feca04d2b9c5ac1cdfff3b70a",
            "max": 90868376,
            "min": 0,
            "orientation": "horizontal",
            "style": "IPY_MODEL_6b726530e11f4289a08742942f5278af",
            "value": 90868376
          }
        },
        "2e325b78e9394f0fb82e87ff6d7d68f2": {
          "model_module": "@jupyter-widgets/controls",
          "model_name": "HTMLModel",
          "model_module_version": "1.5.0",
          "state": {
            "_dom_classes": [],
            "_model_module": "@jupyter-widgets/controls",
            "_model_module_version": "1.5.0",
            "_model_name": "HTMLModel",
            "_view_count": null,
            "_view_module": "@jupyter-widgets/controls",
            "_view_module_version": "1.5.0",
            "_view_name": "HTMLView",
            "description": "",
            "description_tooltip": null,
            "layout": "IPY_MODEL_590fb0b22b0049cfaca006f38fa91737",
            "placeholder": "​",
            "style": "IPY_MODEL_2043c7288a374fd18573939baf770084",
            "value": " 90.9M/90.9M [00:00&lt;00:00, 265MB/s]"
          }
        },
        "7a16684d86104555b95c683b6c76a86b": {
          "model_module": "@jupyter-widgets/base",
          "model_name": "LayoutModel",
          "model_module_version": "1.2.0",
          "state": {
            "_model_module": "@jupyter-widgets/base",
            "_model_module_version": "1.2.0",
            "_model_name": "LayoutModel",
            "_view_count": null,
            "_view_module": "@jupyter-widgets/base",
            "_view_module_version": "1.2.0",
            "_view_name": "LayoutView",
            "align_content": null,
            "align_items": null,
            "align_self": null,
            "border": null,
            "bottom": null,
            "display": null,
            "flex": null,
            "flex_flow": null,
            "grid_area": null,
            "grid_auto_columns": null,
            "grid_auto_flow": null,
            "grid_auto_rows": null,
            "grid_column": null,
            "grid_gap": null,
            "grid_row": null,
            "grid_template_areas": null,
            "grid_template_columns": null,
            "grid_template_rows": null,
            "height": null,
            "justify_content": null,
            "justify_items": null,
            "left": null,
            "margin": null,
            "max_height": null,
            "max_width": null,
            "min_height": null,
            "min_width": null,
            "object_fit": null,
            "object_position": null,
            "order": null,
            "overflow": null,
            "overflow_x": null,
            "overflow_y": null,
            "padding": null,
            "right": null,
            "top": null,
            "visibility": null,
            "width": null
          }
        },
        "a4fc362d79fc422086cdb2b66e2fe363": {
          "model_module": "@jupyter-widgets/base",
          "model_name": "LayoutModel",
          "model_module_version": "1.2.0",
          "state": {
            "_model_module": "@jupyter-widgets/base",
            "_model_module_version": "1.2.0",
            "_model_name": "LayoutModel",
            "_view_count": null,
            "_view_module": "@jupyter-widgets/base",
            "_view_module_version": "1.2.0",
            "_view_name": "LayoutView",
            "align_content": null,
            "align_items": null,
            "align_self": null,
            "border": null,
            "bottom": null,
            "display": null,
            "flex": null,
            "flex_flow": null,
            "grid_area": null,
            "grid_auto_columns": null,
            "grid_auto_flow": null,
            "grid_auto_rows": null,
            "grid_column": null,
            "grid_gap": null,
            "grid_row": null,
            "grid_template_areas": null,
            "grid_template_columns": null,
            "grid_template_rows": null,
            "height": null,
            "justify_content": null,
            "justify_items": null,
            "left": null,
            "margin": null,
            "max_height": null,
            "max_width": null,
            "min_height": null,
            "min_width": null,
            "object_fit": null,
            "object_position": null,
            "order": null,
            "overflow": null,
            "overflow_x": null,
            "overflow_y": null,
            "padding": null,
            "right": null,
            "top": null,
            "visibility": null,
            "width": null
          }
        },
        "e872e44b30734aeba9fdee69650b8295": {
          "model_module": "@jupyter-widgets/controls",
          "model_name": "DescriptionStyleModel",
          "model_module_version": "1.5.0",
          "state": {
            "_model_module": "@jupyter-widgets/controls",
            "_model_module_version": "1.5.0",
            "_model_name": "DescriptionStyleModel",
            "_view_count": null,
            "_view_module": "@jupyter-widgets/base",
            "_view_module_version": "1.2.0",
            "_view_name": "StyleView",
            "description_width": ""
          }
        },
        "0ee4316feca04d2b9c5ac1cdfff3b70a": {
          "model_module": "@jupyter-widgets/base",
          "model_name": "LayoutModel",
          "model_module_version": "1.2.0",
          "state": {
            "_model_module": "@jupyter-widgets/base",
            "_model_module_version": "1.2.0",
            "_model_name": "LayoutModel",
            "_view_count": null,
            "_view_module": "@jupyter-widgets/base",
            "_view_module_version": "1.2.0",
            "_view_name": "LayoutView",
            "align_content": null,
            "align_items": null,
            "align_self": null,
            "border": null,
            "bottom": null,
            "display": null,
            "flex": null,
            "flex_flow": null,
            "grid_area": null,
            "grid_auto_columns": null,
            "grid_auto_flow": null,
            "grid_auto_rows": null,
            "grid_column": null,
            "grid_gap": null,
            "grid_row": null,
            "grid_template_areas": null,
            "grid_template_columns": null,
            "grid_template_rows": null,
            "height": null,
            "justify_content": null,
            "justify_items": null,
            "left": null,
            "margin": null,
            "max_height": null,
            "max_width": null,
            "min_height": null,
            "min_width": null,
            "object_fit": null,
            "object_position": null,
            "order": null,
            "overflow": null,
            "overflow_x": null,
            "overflow_y": null,
            "padding": null,
            "right": null,
            "top": null,
            "visibility": null,
            "width": null
          }
        },
        "6b726530e11f4289a08742942f5278af": {
          "model_module": "@jupyter-widgets/controls",
          "model_name": "ProgressStyleModel",
          "model_module_version": "1.5.0",
          "state": {
            "_model_module": "@jupyter-widgets/controls",
            "_model_module_version": "1.5.0",
            "_model_name": "ProgressStyleModel",
            "_view_count": null,
            "_view_module": "@jupyter-widgets/base",
            "_view_module_version": "1.2.0",
            "_view_name": "StyleView",
            "bar_color": null,
            "description_width": ""
          }
        },
        "590fb0b22b0049cfaca006f38fa91737": {
          "model_module": "@jupyter-widgets/base",
          "model_name": "LayoutModel",
          "model_module_version": "1.2.0",
          "state": {
            "_model_module": "@jupyter-widgets/base",
            "_model_module_version": "1.2.0",
            "_model_name": "LayoutModel",
            "_view_count": null,
            "_view_module": "@jupyter-widgets/base",
            "_view_module_version": "1.2.0",
            "_view_name": "LayoutView",
            "align_content": null,
            "align_items": null,
            "align_self": null,
            "border": null,
            "bottom": null,
            "display": null,
            "flex": null,
            "flex_flow": null,
            "grid_area": null,
            "grid_auto_columns": null,
            "grid_auto_flow": null,
            "grid_auto_rows": null,
            "grid_column": null,
            "grid_gap": null,
            "grid_row": null,
            "grid_template_areas": null,
            "grid_template_columns": null,
            "grid_template_rows": null,
            "height": null,
            "justify_content": null,
            "justify_items": null,
            "left": null,
            "margin": null,
            "max_height": null,
            "max_width": null,
            "min_height": null,
            "min_width": null,
            "object_fit": null,
            "object_position": null,
            "order": null,
            "overflow": null,
            "overflow_x": null,
            "overflow_y": null,
            "padding": null,
            "right": null,
            "top": null,
            "visibility": null,
            "width": null
          }
        },
        "2043c7288a374fd18573939baf770084": {
          "model_module": "@jupyter-widgets/controls",
          "model_name": "DescriptionStyleModel",
          "model_module_version": "1.5.0",
          "state": {
            "_model_module": "@jupyter-widgets/controls",
            "_model_module_version": "1.5.0",
            "_model_name": "DescriptionStyleModel",
            "_view_count": null,
            "_view_module": "@jupyter-widgets/base",
            "_view_module_version": "1.2.0",
            "_view_name": "StyleView",
            "description_width": ""
          }
        },
        "fbd861316c3c40918d81d68274af8183": {
          "model_module": "@jupyter-widgets/controls",
          "model_name": "HBoxModel",
          "model_module_version": "1.5.0",
          "state": {
            "_dom_classes": [],
            "_model_module": "@jupyter-widgets/controls",
            "_model_module_version": "1.5.0",
            "_model_name": "HBoxModel",
            "_view_count": null,
            "_view_module": "@jupyter-widgets/controls",
            "_view_module_version": "1.5.0",
            "_view_name": "HBoxView",
            "box_style": "",
            "children": [
              "IPY_MODEL_b17dac145de64b589963f19337e0af9f",
              "IPY_MODEL_a31e0b22a4784c3395cb06b151585582",
              "IPY_MODEL_80629aa8fa4445f88913e999594faa74"
            ],
            "layout": "IPY_MODEL_6f7aac6bacaf4879b3940a00a5f8c730"
          }
        },
        "b17dac145de64b589963f19337e0af9f": {
          "model_module": "@jupyter-widgets/controls",
          "model_name": "HTMLModel",
          "model_module_version": "1.5.0",
          "state": {
            "_dom_classes": [],
            "_model_module": "@jupyter-widgets/controls",
            "_model_module_version": "1.5.0",
            "_model_name": "HTMLModel",
            "_view_count": null,
            "_view_module": "@jupyter-widgets/controls",
            "_view_module_version": "1.5.0",
            "_view_name": "HTMLView",
            "description": "",
            "description_tooltip": null,
            "layout": "IPY_MODEL_f0ce23bc4baa4df3947315b13654e42b",
            "placeholder": "​",
            "style": "IPY_MODEL_9c12222f6b0c4e94a67a6a7fbfca49b9",
            "value": "tokenizer_config.json: 100%"
          }
        },
        "a31e0b22a4784c3395cb06b151585582": {
          "model_module": "@jupyter-widgets/controls",
          "model_name": "FloatProgressModel",
          "model_module_version": "1.5.0",
          "state": {
            "_dom_classes": [],
            "_model_module": "@jupyter-widgets/controls",
            "_model_module_version": "1.5.0",
            "_model_name": "FloatProgressModel",
            "_view_count": null,
            "_view_module": "@jupyter-widgets/controls",
            "_view_module_version": "1.5.0",
            "_view_name": "ProgressView",
            "bar_style": "success",
            "description": "",
            "description_tooltip": null,
            "layout": "IPY_MODEL_f132d904f35d4931884e0160438937c1",
            "max": 350,
            "min": 0,
            "orientation": "horizontal",
            "style": "IPY_MODEL_b483ef26610947699436f807c20770a3",
            "value": 350
          }
        },
        "80629aa8fa4445f88913e999594faa74": {
          "model_module": "@jupyter-widgets/controls",
          "model_name": "HTMLModel",
          "model_module_version": "1.5.0",
          "state": {
            "_dom_classes": [],
            "_model_module": "@jupyter-widgets/controls",
            "_model_module_version": "1.5.0",
            "_model_name": "HTMLModel",
            "_view_count": null,
            "_view_module": "@jupyter-widgets/controls",
            "_view_module_version": "1.5.0",
            "_view_name": "HTMLView",
            "description": "",
            "description_tooltip": null,
            "layout": "IPY_MODEL_c50a58b764c54075a9dd3ca2852c4572",
            "placeholder": "​",
            "style": "IPY_MODEL_b18eaab76649445695c189e430456e8e",
            "value": " 350/350 [00:00&lt;00:00, 17.5kB/s]"
          }
        },
        "6f7aac6bacaf4879b3940a00a5f8c730": {
          "model_module": "@jupyter-widgets/base",
          "model_name": "LayoutModel",
          "model_module_version": "1.2.0",
          "state": {
            "_model_module": "@jupyter-widgets/base",
            "_model_module_version": "1.2.0",
            "_model_name": "LayoutModel",
            "_view_count": null,
            "_view_module": "@jupyter-widgets/base",
            "_view_module_version": "1.2.0",
            "_view_name": "LayoutView",
            "align_content": null,
            "align_items": null,
            "align_self": null,
            "border": null,
            "bottom": null,
            "display": null,
            "flex": null,
            "flex_flow": null,
            "grid_area": null,
            "grid_auto_columns": null,
            "grid_auto_flow": null,
            "grid_auto_rows": null,
            "grid_column": null,
            "grid_gap": null,
            "grid_row": null,
            "grid_template_areas": null,
            "grid_template_columns": null,
            "grid_template_rows": null,
            "height": null,
            "justify_content": null,
            "justify_items": null,
            "left": null,
            "margin": null,
            "max_height": null,
            "max_width": null,
            "min_height": null,
            "min_width": null,
            "object_fit": null,
            "object_position": null,
            "order": null,
            "overflow": null,
            "overflow_x": null,
            "overflow_y": null,
            "padding": null,
            "right": null,
            "top": null,
            "visibility": null,
            "width": null
          }
        },
        "f0ce23bc4baa4df3947315b13654e42b": {
          "model_module": "@jupyter-widgets/base",
          "model_name": "LayoutModel",
          "model_module_version": "1.2.0",
          "state": {
            "_model_module": "@jupyter-widgets/base",
            "_model_module_version": "1.2.0",
            "_model_name": "LayoutModel",
            "_view_count": null,
            "_view_module": "@jupyter-widgets/base",
            "_view_module_version": "1.2.0",
            "_view_name": "LayoutView",
            "align_content": null,
            "align_items": null,
            "align_self": null,
            "border": null,
            "bottom": null,
            "display": null,
            "flex": null,
            "flex_flow": null,
            "grid_area": null,
            "grid_auto_columns": null,
            "grid_auto_flow": null,
            "grid_auto_rows": null,
            "grid_column": null,
            "grid_gap": null,
            "grid_row": null,
            "grid_template_areas": null,
            "grid_template_columns": null,
            "grid_template_rows": null,
            "height": null,
            "justify_content": null,
            "justify_items": null,
            "left": null,
            "margin": null,
            "max_height": null,
            "max_width": null,
            "min_height": null,
            "min_width": null,
            "object_fit": null,
            "object_position": null,
            "order": null,
            "overflow": null,
            "overflow_x": null,
            "overflow_y": null,
            "padding": null,
            "right": null,
            "top": null,
            "visibility": null,
            "width": null
          }
        },
        "9c12222f6b0c4e94a67a6a7fbfca49b9": {
          "model_module": "@jupyter-widgets/controls",
          "model_name": "DescriptionStyleModel",
          "model_module_version": "1.5.0",
          "state": {
            "_model_module": "@jupyter-widgets/controls",
            "_model_module_version": "1.5.0",
            "_model_name": "DescriptionStyleModel",
            "_view_count": null,
            "_view_module": "@jupyter-widgets/base",
            "_view_module_version": "1.2.0",
            "_view_name": "StyleView",
            "description_width": ""
          }
        },
        "f132d904f35d4931884e0160438937c1": {
          "model_module": "@jupyter-widgets/base",
          "model_name": "LayoutModel",
          "model_module_version": "1.2.0",
          "state": {
            "_model_module": "@jupyter-widgets/base",
            "_model_module_version": "1.2.0",
            "_model_name": "LayoutModel",
            "_view_count": null,
            "_view_module": "@jupyter-widgets/base",
            "_view_module_version": "1.2.0",
            "_view_name": "LayoutView",
            "align_content": null,
            "align_items": null,
            "align_self": null,
            "border": null,
            "bottom": null,
            "display": null,
            "flex": null,
            "flex_flow": null,
            "grid_area": null,
            "grid_auto_columns": null,
            "grid_auto_flow": null,
            "grid_auto_rows": null,
            "grid_column": null,
            "grid_gap": null,
            "grid_row": null,
            "grid_template_areas": null,
            "grid_template_columns": null,
            "grid_template_rows": null,
            "height": null,
            "justify_content": null,
            "justify_items": null,
            "left": null,
            "margin": null,
            "max_height": null,
            "max_width": null,
            "min_height": null,
            "min_width": null,
            "object_fit": null,
            "object_position": null,
            "order": null,
            "overflow": null,
            "overflow_x": null,
            "overflow_y": null,
            "padding": null,
            "right": null,
            "top": null,
            "visibility": null,
            "width": null
          }
        },
        "b483ef26610947699436f807c20770a3": {
          "model_module": "@jupyter-widgets/controls",
          "model_name": "ProgressStyleModel",
          "model_module_version": "1.5.0",
          "state": {
            "_model_module": "@jupyter-widgets/controls",
            "_model_module_version": "1.5.0",
            "_model_name": "ProgressStyleModel",
            "_view_count": null,
            "_view_module": "@jupyter-widgets/base",
            "_view_module_version": "1.2.0",
            "_view_name": "StyleView",
            "bar_color": null,
            "description_width": ""
          }
        },
        "c50a58b764c54075a9dd3ca2852c4572": {
          "model_module": "@jupyter-widgets/base",
          "model_name": "LayoutModel",
          "model_module_version": "1.2.0",
          "state": {
            "_model_module": "@jupyter-widgets/base",
            "_model_module_version": "1.2.0",
            "_model_name": "LayoutModel",
            "_view_count": null,
            "_view_module": "@jupyter-widgets/base",
            "_view_module_version": "1.2.0",
            "_view_name": "LayoutView",
            "align_content": null,
            "align_items": null,
            "align_self": null,
            "border": null,
            "bottom": null,
            "display": null,
            "flex": null,
            "flex_flow": null,
            "grid_area": null,
            "grid_auto_columns": null,
            "grid_auto_flow": null,
            "grid_auto_rows": null,
            "grid_column": null,
            "grid_gap": null,
            "grid_row": null,
            "grid_template_areas": null,
            "grid_template_columns": null,
            "grid_template_rows": null,
            "height": null,
            "justify_content": null,
            "justify_items": null,
            "left": null,
            "margin": null,
            "max_height": null,
            "max_width": null,
            "min_height": null,
            "min_width": null,
            "object_fit": null,
            "object_position": null,
            "order": null,
            "overflow": null,
            "overflow_x": null,
            "overflow_y": null,
            "padding": null,
            "right": null,
            "top": null,
            "visibility": null,
            "width": null
          }
        },
        "b18eaab76649445695c189e430456e8e": {
          "model_module": "@jupyter-widgets/controls",
          "model_name": "DescriptionStyleModel",
          "model_module_version": "1.5.0",
          "state": {
            "_model_module": "@jupyter-widgets/controls",
            "_model_module_version": "1.5.0",
            "_model_name": "DescriptionStyleModel",
            "_view_count": null,
            "_view_module": "@jupyter-widgets/base",
            "_view_module_version": "1.2.0",
            "_view_name": "StyleView",
            "description_width": ""
          }
        },
        "e1778896303443768bd1ea4edfb7e00c": {
          "model_module": "@jupyter-widgets/controls",
          "model_name": "HBoxModel",
          "model_module_version": "1.5.0",
          "state": {
            "_dom_classes": [],
            "_model_module": "@jupyter-widgets/controls",
            "_model_module_version": "1.5.0",
            "_model_name": "HBoxModel",
            "_view_count": null,
            "_view_module": "@jupyter-widgets/controls",
            "_view_module_version": "1.5.0",
            "_view_name": "HBoxView",
            "box_style": "",
            "children": [
              "IPY_MODEL_a0e703a0e91c4365baf4e9411e72c2ae",
              "IPY_MODEL_a5500ff39e4a4a0fb1392646abd2d59b",
              "IPY_MODEL_63f914e15c724bbda7f0e582280a7c62"
            ],
            "layout": "IPY_MODEL_228d625f5c81407fa3caa4a1b378123a"
          }
        },
        "a0e703a0e91c4365baf4e9411e72c2ae": {
          "model_module": "@jupyter-widgets/controls",
          "model_name": "HTMLModel",
          "model_module_version": "1.5.0",
          "state": {
            "_dom_classes": [],
            "_model_module": "@jupyter-widgets/controls",
            "_model_module_version": "1.5.0",
            "_model_name": "HTMLModel",
            "_view_count": null,
            "_view_module": "@jupyter-widgets/controls",
            "_view_module_version": "1.5.0",
            "_view_name": "HTMLView",
            "description": "",
            "description_tooltip": null,
            "layout": "IPY_MODEL_3e26ec4caed141979be3a19aa60c26ca",
            "placeholder": "​",
            "style": "IPY_MODEL_779e388b76134bc6a195375591c0fbd3",
            "value": "vocab.txt: 100%"
          }
        },
        "a5500ff39e4a4a0fb1392646abd2d59b": {
          "model_module": "@jupyter-widgets/controls",
          "model_name": "FloatProgressModel",
          "model_module_version": "1.5.0",
          "state": {
            "_dom_classes": [],
            "_model_module": "@jupyter-widgets/controls",
            "_model_module_version": "1.5.0",
            "_model_name": "FloatProgressModel",
            "_view_count": null,
            "_view_module": "@jupyter-widgets/controls",
            "_view_module_version": "1.5.0",
            "_view_name": "ProgressView",
            "bar_style": "success",
            "description": "",
            "description_tooltip": null,
            "layout": "IPY_MODEL_3b87b1c9d11541958001542d8997f6f1",
            "max": 231508,
            "min": 0,
            "orientation": "horizontal",
            "style": "IPY_MODEL_75ae243a4ec948228462e178c6b8e69e",
            "value": 231508
          }
        },
        "63f914e15c724bbda7f0e582280a7c62": {
          "model_module": "@jupyter-widgets/controls",
          "model_name": "HTMLModel",
          "model_module_version": "1.5.0",
          "state": {
            "_dom_classes": [],
            "_model_module": "@jupyter-widgets/controls",
            "_model_module_version": "1.5.0",
            "_model_name": "HTMLModel",
            "_view_count": null,
            "_view_module": "@jupyter-widgets/controls",
            "_view_module_version": "1.5.0",
            "_view_name": "HTMLView",
            "description": "",
            "description_tooltip": null,
            "layout": "IPY_MODEL_04ba9a5a700946418555d4d73081f5cf",
            "placeholder": "​",
            "style": "IPY_MODEL_09bae30d302f47e9aa58b0171091c0fc",
            "value": " 232k/232k [00:00&lt;00:00, 538kB/s]"
          }
        },
        "228d625f5c81407fa3caa4a1b378123a": {
          "model_module": "@jupyter-widgets/base",
          "model_name": "LayoutModel",
          "model_module_version": "1.2.0",
          "state": {
            "_model_module": "@jupyter-widgets/base",
            "_model_module_version": "1.2.0",
            "_model_name": "LayoutModel",
            "_view_count": null,
            "_view_module": "@jupyter-widgets/base",
            "_view_module_version": "1.2.0",
            "_view_name": "LayoutView",
            "align_content": null,
            "align_items": null,
            "align_self": null,
            "border": null,
            "bottom": null,
            "display": null,
            "flex": null,
            "flex_flow": null,
            "grid_area": null,
            "grid_auto_columns": null,
            "grid_auto_flow": null,
            "grid_auto_rows": null,
            "grid_column": null,
            "grid_gap": null,
            "grid_row": null,
            "grid_template_areas": null,
            "grid_template_columns": null,
            "grid_template_rows": null,
            "height": null,
            "justify_content": null,
            "justify_items": null,
            "left": null,
            "margin": null,
            "max_height": null,
            "max_width": null,
            "min_height": null,
            "min_width": null,
            "object_fit": null,
            "object_position": null,
            "order": null,
            "overflow": null,
            "overflow_x": null,
            "overflow_y": null,
            "padding": null,
            "right": null,
            "top": null,
            "visibility": null,
            "width": null
          }
        },
        "3e26ec4caed141979be3a19aa60c26ca": {
          "model_module": "@jupyter-widgets/base",
          "model_name": "LayoutModel",
          "model_module_version": "1.2.0",
          "state": {
            "_model_module": "@jupyter-widgets/base",
            "_model_module_version": "1.2.0",
            "_model_name": "LayoutModel",
            "_view_count": null,
            "_view_module": "@jupyter-widgets/base",
            "_view_module_version": "1.2.0",
            "_view_name": "LayoutView",
            "align_content": null,
            "align_items": null,
            "align_self": null,
            "border": null,
            "bottom": null,
            "display": null,
            "flex": null,
            "flex_flow": null,
            "grid_area": null,
            "grid_auto_columns": null,
            "grid_auto_flow": null,
            "grid_auto_rows": null,
            "grid_column": null,
            "grid_gap": null,
            "grid_row": null,
            "grid_template_areas": null,
            "grid_template_columns": null,
            "grid_template_rows": null,
            "height": null,
            "justify_content": null,
            "justify_items": null,
            "left": null,
            "margin": null,
            "max_height": null,
            "max_width": null,
            "min_height": null,
            "min_width": null,
            "object_fit": null,
            "object_position": null,
            "order": null,
            "overflow": null,
            "overflow_x": null,
            "overflow_y": null,
            "padding": null,
            "right": null,
            "top": null,
            "visibility": null,
            "width": null
          }
        },
        "779e388b76134bc6a195375591c0fbd3": {
          "model_module": "@jupyter-widgets/controls",
          "model_name": "DescriptionStyleModel",
          "model_module_version": "1.5.0",
          "state": {
            "_model_module": "@jupyter-widgets/controls",
            "_model_module_version": "1.5.0",
            "_model_name": "DescriptionStyleModel",
            "_view_count": null,
            "_view_module": "@jupyter-widgets/base",
            "_view_module_version": "1.2.0",
            "_view_name": "StyleView",
            "description_width": ""
          }
        },
        "3b87b1c9d11541958001542d8997f6f1": {
          "model_module": "@jupyter-widgets/base",
          "model_name": "LayoutModel",
          "model_module_version": "1.2.0",
          "state": {
            "_model_module": "@jupyter-widgets/base",
            "_model_module_version": "1.2.0",
            "_model_name": "LayoutModel",
            "_view_count": null,
            "_view_module": "@jupyter-widgets/base",
            "_view_module_version": "1.2.0",
            "_view_name": "LayoutView",
            "align_content": null,
            "align_items": null,
            "align_self": null,
            "border": null,
            "bottom": null,
            "display": null,
            "flex": null,
            "flex_flow": null,
            "grid_area": null,
            "grid_auto_columns": null,
            "grid_auto_flow": null,
            "grid_auto_rows": null,
            "grid_column": null,
            "grid_gap": null,
            "grid_row": null,
            "grid_template_areas": null,
            "grid_template_columns": null,
            "grid_template_rows": null,
            "height": null,
            "justify_content": null,
            "justify_items": null,
            "left": null,
            "margin": null,
            "max_height": null,
            "max_width": null,
            "min_height": null,
            "min_width": null,
            "object_fit": null,
            "object_position": null,
            "order": null,
            "overflow": null,
            "overflow_x": null,
            "overflow_y": null,
            "padding": null,
            "right": null,
            "top": null,
            "visibility": null,
            "width": null
          }
        },
        "75ae243a4ec948228462e178c6b8e69e": {
          "model_module": "@jupyter-widgets/controls",
          "model_name": "ProgressStyleModel",
          "model_module_version": "1.5.0",
          "state": {
            "_model_module": "@jupyter-widgets/controls",
            "_model_module_version": "1.5.0",
            "_model_name": "ProgressStyleModel",
            "_view_count": null,
            "_view_module": "@jupyter-widgets/base",
            "_view_module_version": "1.2.0",
            "_view_name": "StyleView",
            "bar_color": null,
            "description_width": ""
          }
        },
        "04ba9a5a700946418555d4d73081f5cf": {
          "model_module": "@jupyter-widgets/base",
          "model_name": "LayoutModel",
          "model_module_version": "1.2.0",
          "state": {
            "_model_module": "@jupyter-widgets/base",
            "_model_module_version": "1.2.0",
            "_model_name": "LayoutModel",
            "_view_count": null,
            "_view_module": "@jupyter-widgets/base",
            "_view_module_version": "1.2.0",
            "_view_name": "LayoutView",
            "align_content": null,
            "align_items": null,
            "align_self": null,
            "border": null,
            "bottom": null,
            "display": null,
            "flex": null,
            "flex_flow": null,
            "grid_area": null,
            "grid_auto_columns": null,
            "grid_auto_flow": null,
            "grid_auto_rows": null,
            "grid_column": null,
            "grid_gap": null,
            "grid_row": null,
            "grid_template_areas": null,
            "grid_template_columns": null,
            "grid_template_rows": null,
            "height": null,
            "justify_content": null,
            "justify_items": null,
            "left": null,
            "margin": null,
            "max_height": null,
            "max_width": null,
            "min_height": null,
            "min_width": null,
            "object_fit": null,
            "object_position": null,
            "order": null,
            "overflow": null,
            "overflow_x": null,
            "overflow_y": null,
            "padding": null,
            "right": null,
            "top": null,
            "visibility": null,
            "width": null
          }
        },
        "09bae30d302f47e9aa58b0171091c0fc": {
          "model_module": "@jupyter-widgets/controls",
          "model_name": "DescriptionStyleModel",
          "model_module_version": "1.5.0",
          "state": {
            "_model_module": "@jupyter-widgets/controls",
            "_model_module_version": "1.5.0",
            "_model_name": "DescriptionStyleModel",
            "_view_count": null,
            "_view_module": "@jupyter-widgets/base",
            "_view_module_version": "1.2.0",
            "_view_name": "StyleView",
            "description_width": ""
          }
        },
        "42c50a1ec1804db7801ea941d83c8441": {
          "model_module": "@jupyter-widgets/controls",
          "model_name": "HBoxModel",
          "model_module_version": "1.5.0",
          "state": {
            "_dom_classes": [],
            "_model_module": "@jupyter-widgets/controls",
            "_model_module_version": "1.5.0",
            "_model_name": "HBoxModel",
            "_view_count": null,
            "_view_module": "@jupyter-widgets/controls",
            "_view_module_version": "1.5.0",
            "_view_name": "HBoxView",
            "box_style": "",
            "children": [
              "IPY_MODEL_205d8c0307bb4ff790b7a1c791dada21",
              "IPY_MODEL_df401c0b61a74a39897745162874f43c",
              "IPY_MODEL_7d8a0c3b6d294db5899b799b952f2be9"
            ],
            "layout": "IPY_MODEL_e72f7c11d60847ebb614c8d46f1f9db0"
          }
        },
        "205d8c0307bb4ff790b7a1c791dada21": {
          "model_module": "@jupyter-widgets/controls",
          "model_name": "HTMLModel",
          "model_module_version": "1.5.0",
          "state": {
            "_dom_classes": [],
            "_model_module": "@jupyter-widgets/controls",
            "_model_module_version": "1.5.0",
            "_model_name": "HTMLModel",
            "_view_count": null,
            "_view_module": "@jupyter-widgets/controls",
            "_view_module_version": "1.5.0",
            "_view_name": "HTMLView",
            "description": "",
            "description_tooltip": null,
            "layout": "IPY_MODEL_95fe4e5be21240569ac6f9f0e67c4e5e",
            "placeholder": "​",
            "style": "IPY_MODEL_7e56aa724c0745aea10510666ed5ef76",
            "value": "tokenizer.json: 100%"
          }
        },
        "df401c0b61a74a39897745162874f43c": {
          "model_module": "@jupyter-widgets/controls",
          "model_name": "FloatProgressModel",
          "model_module_version": "1.5.0",
          "state": {
            "_dom_classes": [],
            "_model_module": "@jupyter-widgets/controls",
            "_model_module_version": "1.5.0",
            "_model_name": "FloatProgressModel",
            "_view_count": null,
            "_view_module": "@jupyter-widgets/controls",
            "_view_module_version": "1.5.0",
            "_view_name": "ProgressView",
            "bar_style": "success",
            "description": "",
            "description_tooltip": null,
            "layout": "IPY_MODEL_0de65a92b8d04433928e5ce76d2260e6",
            "max": 466247,
            "min": 0,
            "orientation": "horizontal",
            "style": "IPY_MODEL_42023666e5d3440883bbf07d0243a34f",
            "value": 466247
          }
        },
        "7d8a0c3b6d294db5899b799b952f2be9": {
          "model_module": "@jupyter-widgets/controls",
          "model_name": "HTMLModel",
          "model_module_version": "1.5.0",
          "state": {
            "_dom_classes": [],
            "_model_module": "@jupyter-widgets/controls",
            "_model_module_version": "1.5.0",
            "_model_name": "HTMLModel",
            "_view_count": null,
            "_view_module": "@jupyter-widgets/controls",
            "_view_module_version": "1.5.0",
            "_view_name": "HTMLView",
            "description": "",
            "description_tooltip": null,
            "layout": "IPY_MODEL_6b692aaa00d8453b84a93a2eebc065a8",
            "placeholder": "​",
            "style": "IPY_MODEL_e0eae8ef89a14660b1e55d4018eaacf2",
            "value": " 466k/466k [00:00&lt;00:00, 2.14MB/s]"
          }
        },
        "e72f7c11d60847ebb614c8d46f1f9db0": {
          "model_module": "@jupyter-widgets/base",
          "model_name": "LayoutModel",
          "model_module_version": "1.2.0",
          "state": {
            "_model_module": "@jupyter-widgets/base",
            "_model_module_version": "1.2.0",
            "_model_name": "LayoutModel",
            "_view_count": null,
            "_view_module": "@jupyter-widgets/base",
            "_view_module_version": "1.2.0",
            "_view_name": "LayoutView",
            "align_content": null,
            "align_items": null,
            "align_self": null,
            "border": null,
            "bottom": null,
            "display": null,
            "flex": null,
            "flex_flow": null,
            "grid_area": null,
            "grid_auto_columns": null,
            "grid_auto_flow": null,
            "grid_auto_rows": null,
            "grid_column": null,
            "grid_gap": null,
            "grid_row": null,
            "grid_template_areas": null,
            "grid_template_columns": null,
            "grid_template_rows": null,
            "height": null,
            "justify_content": null,
            "justify_items": null,
            "left": null,
            "margin": null,
            "max_height": null,
            "max_width": null,
            "min_height": null,
            "min_width": null,
            "object_fit": null,
            "object_position": null,
            "order": null,
            "overflow": null,
            "overflow_x": null,
            "overflow_y": null,
            "padding": null,
            "right": null,
            "top": null,
            "visibility": null,
            "width": null
          }
        },
        "95fe4e5be21240569ac6f9f0e67c4e5e": {
          "model_module": "@jupyter-widgets/base",
          "model_name": "LayoutModel",
          "model_module_version": "1.2.0",
          "state": {
            "_model_module": "@jupyter-widgets/base",
            "_model_module_version": "1.2.0",
            "_model_name": "LayoutModel",
            "_view_count": null,
            "_view_module": "@jupyter-widgets/base",
            "_view_module_version": "1.2.0",
            "_view_name": "LayoutView",
            "align_content": null,
            "align_items": null,
            "align_self": null,
            "border": null,
            "bottom": null,
            "display": null,
            "flex": null,
            "flex_flow": null,
            "grid_area": null,
            "grid_auto_columns": null,
            "grid_auto_flow": null,
            "grid_auto_rows": null,
            "grid_column": null,
            "grid_gap": null,
            "grid_row": null,
            "grid_template_areas": null,
            "grid_template_columns": null,
            "grid_template_rows": null,
            "height": null,
            "justify_content": null,
            "justify_items": null,
            "left": null,
            "margin": null,
            "max_height": null,
            "max_width": null,
            "min_height": null,
            "min_width": null,
            "object_fit": null,
            "object_position": null,
            "order": null,
            "overflow": null,
            "overflow_x": null,
            "overflow_y": null,
            "padding": null,
            "right": null,
            "top": null,
            "visibility": null,
            "width": null
          }
        },
        "7e56aa724c0745aea10510666ed5ef76": {
          "model_module": "@jupyter-widgets/controls",
          "model_name": "DescriptionStyleModel",
          "model_module_version": "1.5.0",
          "state": {
            "_model_module": "@jupyter-widgets/controls",
            "_model_module_version": "1.5.0",
            "_model_name": "DescriptionStyleModel",
            "_view_count": null,
            "_view_module": "@jupyter-widgets/base",
            "_view_module_version": "1.2.0",
            "_view_name": "StyleView",
            "description_width": ""
          }
        },
        "0de65a92b8d04433928e5ce76d2260e6": {
          "model_module": "@jupyter-widgets/base",
          "model_name": "LayoutModel",
          "model_module_version": "1.2.0",
          "state": {
            "_model_module": "@jupyter-widgets/base",
            "_model_module_version": "1.2.0",
            "_model_name": "LayoutModel",
            "_view_count": null,
            "_view_module": "@jupyter-widgets/base",
            "_view_module_version": "1.2.0",
            "_view_name": "LayoutView",
            "align_content": null,
            "align_items": null,
            "align_self": null,
            "border": null,
            "bottom": null,
            "display": null,
            "flex": null,
            "flex_flow": null,
            "grid_area": null,
            "grid_auto_columns": null,
            "grid_auto_flow": null,
            "grid_auto_rows": null,
            "grid_column": null,
            "grid_gap": null,
            "grid_row": null,
            "grid_template_areas": null,
            "grid_template_columns": null,
            "grid_template_rows": null,
            "height": null,
            "justify_content": null,
            "justify_items": null,
            "left": null,
            "margin": null,
            "max_height": null,
            "max_width": null,
            "min_height": null,
            "min_width": null,
            "object_fit": null,
            "object_position": null,
            "order": null,
            "overflow": null,
            "overflow_x": null,
            "overflow_y": null,
            "padding": null,
            "right": null,
            "top": null,
            "visibility": null,
            "width": null
          }
        },
        "42023666e5d3440883bbf07d0243a34f": {
          "model_module": "@jupyter-widgets/controls",
          "model_name": "ProgressStyleModel",
          "model_module_version": "1.5.0",
          "state": {
            "_model_module": "@jupyter-widgets/controls",
            "_model_module_version": "1.5.0",
            "_model_name": "ProgressStyleModel",
            "_view_count": null,
            "_view_module": "@jupyter-widgets/base",
            "_view_module_version": "1.2.0",
            "_view_name": "StyleView",
            "bar_color": null,
            "description_width": ""
          }
        },
        "6b692aaa00d8453b84a93a2eebc065a8": {
          "model_module": "@jupyter-widgets/base",
          "model_name": "LayoutModel",
          "model_module_version": "1.2.0",
          "state": {
            "_model_module": "@jupyter-widgets/base",
            "_model_module_version": "1.2.0",
            "_model_name": "LayoutModel",
            "_view_count": null,
            "_view_module": "@jupyter-widgets/base",
            "_view_module_version": "1.2.0",
            "_view_name": "LayoutView",
            "align_content": null,
            "align_items": null,
            "align_self": null,
            "border": null,
            "bottom": null,
            "display": null,
            "flex": null,
            "flex_flow": null,
            "grid_area": null,
            "grid_auto_columns": null,
            "grid_auto_flow": null,
            "grid_auto_rows": null,
            "grid_column": null,
            "grid_gap": null,
            "grid_row": null,
            "grid_template_areas": null,
            "grid_template_columns": null,
            "grid_template_rows": null,
            "height": null,
            "justify_content": null,
            "justify_items": null,
            "left": null,
            "margin": null,
            "max_height": null,
            "max_width": null,
            "min_height": null,
            "min_width": null,
            "object_fit": null,
            "object_position": null,
            "order": null,
            "overflow": null,
            "overflow_x": null,
            "overflow_y": null,
            "padding": null,
            "right": null,
            "top": null,
            "visibility": null,
            "width": null
          }
        },
        "e0eae8ef89a14660b1e55d4018eaacf2": {
          "model_module": "@jupyter-widgets/controls",
          "model_name": "DescriptionStyleModel",
          "model_module_version": "1.5.0",
          "state": {
            "_model_module": "@jupyter-widgets/controls",
            "_model_module_version": "1.5.0",
            "_model_name": "DescriptionStyleModel",
            "_view_count": null,
            "_view_module": "@jupyter-widgets/base",
            "_view_module_version": "1.2.0",
            "_view_name": "StyleView",
            "description_width": ""
          }
        },
        "415d95aaec0c4ff6af6f63411d50f9f2": {
          "model_module": "@jupyter-widgets/controls",
          "model_name": "HBoxModel",
          "model_module_version": "1.5.0",
          "state": {
            "_dom_classes": [],
            "_model_module": "@jupyter-widgets/controls",
            "_model_module_version": "1.5.0",
            "_model_name": "HBoxModel",
            "_view_count": null,
            "_view_module": "@jupyter-widgets/controls",
            "_view_module_version": "1.5.0",
            "_view_name": "HBoxView",
            "box_style": "",
            "children": [
              "IPY_MODEL_4636dd55af304872a5c34f9bf9abb6ee",
              "IPY_MODEL_0b09ae67bed14555bc846d769c7a4240",
              "IPY_MODEL_b34fc193bbda439591c12592a684f049"
            ],
            "layout": "IPY_MODEL_3ee2e671f85a4fc785558e61baf7fdd8"
          }
        },
        "4636dd55af304872a5c34f9bf9abb6ee": {
          "model_module": "@jupyter-widgets/controls",
          "model_name": "HTMLModel",
          "model_module_version": "1.5.0",
          "state": {
            "_dom_classes": [],
            "_model_module": "@jupyter-widgets/controls",
            "_model_module_version": "1.5.0",
            "_model_name": "HTMLModel",
            "_view_count": null,
            "_view_module": "@jupyter-widgets/controls",
            "_view_module_version": "1.5.0",
            "_view_name": "HTMLView",
            "description": "",
            "description_tooltip": null,
            "layout": "IPY_MODEL_e2edd4366aa24b3c938df5e30fbf0d90",
            "placeholder": "​",
            "style": "IPY_MODEL_4970da7efbf14bd5827936e6f5cdc60c",
            "value": "special_tokens_map.json: 100%"
          }
        },
        "0b09ae67bed14555bc846d769c7a4240": {
          "model_module": "@jupyter-widgets/controls",
          "model_name": "FloatProgressModel",
          "model_module_version": "1.5.0",
          "state": {
            "_dom_classes": [],
            "_model_module": "@jupyter-widgets/controls",
            "_model_module_version": "1.5.0",
            "_model_name": "FloatProgressModel",
            "_view_count": null,
            "_view_module": "@jupyter-widgets/controls",
            "_view_module_version": "1.5.0",
            "_view_name": "ProgressView",
            "bar_style": "success",
            "description": "",
            "description_tooltip": null,
            "layout": "IPY_MODEL_e73eed9eab114072bfa14e1353ab03fc",
            "max": 112,
            "min": 0,
            "orientation": "horizontal",
            "style": "IPY_MODEL_b62c6d5560504bfc88d28852267fddd5",
            "value": 112
          }
        },
        "b34fc193bbda439591c12592a684f049": {
          "model_module": "@jupyter-widgets/controls",
          "model_name": "HTMLModel",
          "model_module_version": "1.5.0",
          "state": {
            "_dom_classes": [],
            "_model_module": "@jupyter-widgets/controls",
            "_model_module_version": "1.5.0",
            "_model_name": "HTMLModel",
            "_view_count": null,
            "_view_module": "@jupyter-widgets/controls",
            "_view_module_version": "1.5.0",
            "_view_name": "HTMLView",
            "description": "",
            "description_tooltip": null,
            "layout": "IPY_MODEL_3ae84ffd45754da29784f64da382c348",
            "placeholder": "​",
            "style": "IPY_MODEL_3332380362f0437284f213d32ba6b75d",
            "value": " 112/112 [00:00&lt;00:00, 4.37kB/s]"
          }
        },
        "3ee2e671f85a4fc785558e61baf7fdd8": {
          "model_module": "@jupyter-widgets/base",
          "model_name": "LayoutModel",
          "model_module_version": "1.2.0",
          "state": {
            "_model_module": "@jupyter-widgets/base",
            "_model_module_version": "1.2.0",
            "_model_name": "LayoutModel",
            "_view_count": null,
            "_view_module": "@jupyter-widgets/base",
            "_view_module_version": "1.2.0",
            "_view_name": "LayoutView",
            "align_content": null,
            "align_items": null,
            "align_self": null,
            "border": null,
            "bottom": null,
            "display": null,
            "flex": null,
            "flex_flow": null,
            "grid_area": null,
            "grid_auto_columns": null,
            "grid_auto_flow": null,
            "grid_auto_rows": null,
            "grid_column": null,
            "grid_gap": null,
            "grid_row": null,
            "grid_template_areas": null,
            "grid_template_columns": null,
            "grid_template_rows": null,
            "height": null,
            "justify_content": null,
            "justify_items": null,
            "left": null,
            "margin": null,
            "max_height": null,
            "max_width": null,
            "min_height": null,
            "min_width": null,
            "object_fit": null,
            "object_position": null,
            "order": null,
            "overflow": null,
            "overflow_x": null,
            "overflow_y": null,
            "padding": null,
            "right": null,
            "top": null,
            "visibility": null,
            "width": null
          }
        },
        "e2edd4366aa24b3c938df5e30fbf0d90": {
          "model_module": "@jupyter-widgets/base",
          "model_name": "LayoutModel",
          "model_module_version": "1.2.0",
          "state": {
            "_model_module": "@jupyter-widgets/base",
            "_model_module_version": "1.2.0",
            "_model_name": "LayoutModel",
            "_view_count": null,
            "_view_module": "@jupyter-widgets/base",
            "_view_module_version": "1.2.0",
            "_view_name": "LayoutView",
            "align_content": null,
            "align_items": null,
            "align_self": null,
            "border": null,
            "bottom": null,
            "display": null,
            "flex": null,
            "flex_flow": null,
            "grid_area": null,
            "grid_auto_columns": null,
            "grid_auto_flow": null,
            "grid_auto_rows": null,
            "grid_column": null,
            "grid_gap": null,
            "grid_row": null,
            "grid_template_areas": null,
            "grid_template_columns": null,
            "grid_template_rows": null,
            "height": null,
            "justify_content": null,
            "justify_items": null,
            "left": null,
            "margin": null,
            "max_height": null,
            "max_width": null,
            "min_height": null,
            "min_width": null,
            "object_fit": null,
            "object_position": null,
            "order": null,
            "overflow": null,
            "overflow_x": null,
            "overflow_y": null,
            "padding": null,
            "right": null,
            "top": null,
            "visibility": null,
            "width": null
          }
        },
        "4970da7efbf14bd5827936e6f5cdc60c": {
          "model_module": "@jupyter-widgets/controls",
          "model_name": "DescriptionStyleModel",
          "model_module_version": "1.5.0",
          "state": {
            "_model_module": "@jupyter-widgets/controls",
            "_model_module_version": "1.5.0",
            "_model_name": "DescriptionStyleModel",
            "_view_count": null,
            "_view_module": "@jupyter-widgets/base",
            "_view_module_version": "1.2.0",
            "_view_name": "StyleView",
            "description_width": ""
          }
        },
        "e73eed9eab114072bfa14e1353ab03fc": {
          "model_module": "@jupyter-widgets/base",
          "model_name": "LayoutModel",
          "model_module_version": "1.2.0",
          "state": {
            "_model_module": "@jupyter-widgets/base",
            "_model_module_version": "1.2.0",
            "_model_name": "LayoutModel",
            "_view_count": null,
            "_view_module": "@jupyter-widgets/base",
            "_view_module_version": "1.2.0",
            "_view_name": "LayoutView",
            "align_content": null,
            "align_items": null,
            "align_self": null,
            "border": null,
            "bottom": null,
            "display": null,
            "flex": null,
            "flex_flow": null,
            "grid_area": null,
            "grid_auto_columns": null,
            "grid_auto_flow": null,
            "grid_auto_rows": null,
            "grid_column": null,
            "grid_gap": null,
            "grid_row": null,
            "grid_template_areas": null,
            "grid_template_columns": null,
            "grid_template_rows": null,
            "height": null,
            "justify_content": null,
            "justify_items": null,
            "left": null,
            "margin": null,
            "max_height": null,
            "max_width": null,
            "min_height": null,
            "min_width": null,
            "object_fit": null,
            "object_position": null,
            "order": null,
            "overflow": null,
            "overflow_x": null,
            "overflow_y": null,
            "padding": null,
            "right": null,
            "top": null,
            "visibility": null,
            "width": null
          }
        },
        "b62c6d5560504bfc88d28852267fddd5": {
          "model_module": "@jupyter-widgets/controls",
          "model_name": "ProgressStyleModel",
          "model_module_version": "1.5.0",
          "state": {
            "_model_module": "@jupyter-widgets/controls",
            "_model_module_version": "1.5.0",
            "_model_name": "ProgressStyleModel",
            "_view_count": null,
            "_view_module": "@jupyter-widgets/base",
            "_view_module_version": "1.2.0",
            "_view_name": "StyleView",
            "bar_color": null,
            "description_width": ""
          }
        },
        "3ae84ffd45754da29784f64da382c348": {
          "model_module": "@jupyter-widgets/base",
          "model_name": "LayoutModel",
          "model_module_version": "1.2.0",
          "state": {
            "_model_module": "@jupyter-widgets/base",
            "_model_module_version": "1.2.0",
            "_model_name": "LayoutModel",
            "_view_count": null,
            "_view_module": "@jupyter-widgets/base",
            "_view_module_version": "1.2.0",
            "_view_name": "LayoutView",
            "align_content": null,
            "align_items": null,
            "align_self": null,
            "border": null,
            "bottom": null,
            "display": null,
            "flex": null,
            "flex_flow": null,
            "grid_area": null,
            "grid_auto_columns": null,
            "grid_auto_flow": null,
            "grid_auto_rows": null,
            "grid_column": null,
            "grid_gap": null,
            "grid_row": null,
            "grid_template_areas": null,
            "grid_template_columns": null,
            "grid_template_rows": null,
            "height": null,
            "justify_content": null,
            "justify_items": null,
            "left": null,
            "margin": null,
            "max_height": null,
            "max_width": null,
            "min_height": null,
            "min_width": null,
            "object_fit": null,
            "object_position": null,
            "order": null,
            "overflow": null,
            "overflow_x": null,
            "overflow_y": null,
            "padding": null,
            "right": null,
            "top": null,
            "visibility": null,
            "width": null
          }
        },
        "3332380362f0437284f213d32ba6b75d": {
          "model_module": "@jupyter-widgets/controls",
          "model_name": "DescriptionStyleModel",
          "model_module_version": "1.5.0",
          "state": {
            "_model_module": "@jupyter-widgets/controls",
            "_model_module_version": "1.5.0",
            "_model_name": "DescriptionStyleModel",
            "_view_count": null,
            "_view_module": "@jupyter-widgets/base",
            "_view_module_version": "1.2.0",
            "_view_name": "StyleView",
            "description_width": ""
          }
        },
        "bfa62e75226148cb9b5a6505cf38bf66": {
          "model_module": "@jupyter-widgets/controls",
          "model_name": "HBoxModel",
          "model_module_version": "1.5.0",
          "state": {
            "_dom_classes": [],
            "_model_module": "@jupyter-widgets/controls",
            "_model_module_version": "1.5.0",
            "_model_name": "HBoxModel",
            "_view_count": null,
            "_view_module": "@jupyter-widgets/controls",
            "_view_module_version": "1.5.0",
            "_view_name": "HBoxView",
            "box_style": "",
            "children": [
              "IPY_MODEL_4e748d7b81eb4c3890aaadb579d36665",
              "IPY_MODEL_08055cd7ad6b448fbb793e6dea37b325",
              "IPY_MODEL_5fcb03d6b4b8484fb2b7fdabf84c4b57"
            ],
            "layout": "IPY_MODEL_38c361b92ea94c6ba71fc8bfd8d82c87"
          }
        },
        "4e748d7b81eb4c3890aaadb579d36665": {
          "model_module": "@jupyter-widgets/controls",
          "model_name": "HTMLModel",
          "model_module_version": "1.5.0",
          "state": {
            "_dom_classes": [],
            "_model_module": "@jupyter-widgets/controls",
            "_model_module_version": "1.5.0",
            "_model_name": "HTMLModel",
            "_view_count": null,
            "_view_module": "@jupyter-widgets/controls",
            "_view_module_version": "1.5.0",
            "_view_name": "HTMLView",
            "description": "",
            "description_tooltip": null,
            "layout": "IPY_MODEL_b5ebee50628642f9bd7e9c474ce09267",
            "placeholder": "​",
            "style": "IPY_MODEL_90f9d45e98be423180ad3f09d9bf0059",
            "value": "1_Pooling/config.json: 100%"
          }
        },
        "08055cd7ad6b448fbb793e6dea37b325": {
          "model_module": "@jupyter-widgets/controls",
          "model_name": "FloatProgressModel",
          "model_module_version": "1.5.0",
          "state": {
            "_dom_classes": [],
            "_model_module": "@jupyter-widgets/controls",
            "_model_module_version": "1.5.0",
            "_model_name": "FloatProgressModel",
            "_view_count": null,
            "_view_module": "@jupyter-widgets/controls",
            "_view_module_version": "1.5.0",
            "_view_name": "ProgressView",
            "bar_style": "success",
            "description": "",
            "description_tooltip": null,
            "layout": "IPY_MODEL_da058ace52644f98b5cfb3b30879a3a2",
            "max": 190,
            "min": 0,
            "orientation": "horizontal",
            "style": "IPY_MODEL_456df5f5866b4866ac95b00ee183c75d",
            "value": 190
          }
        },
        "5fcb03d6b4b8484fb2b7fdabf84c4b57": {
          "model_module": "@jupyter-widgets/controls",
          "model_name": "HTMLModel",
          "model_module_version": "1.5.0",
          "state": {
            "_dom_classes": [],
            "_model_module": "@jupyter-widgets/controls",
            "_model_module_version": "1.5.0",
            "_model_name": "HTMLModel",
            "_view_count": null,
            "_view_module": "@jupyter-widgets/controls",
            "_view_module_version": "1.5.0",
            "_view_name": "HTMLView",
            "description": "",
            "description_tooltip": null,
            "layout": "IPY_MODEL_2507982eefbe49d985c03409a1476711",
            "placeholder": "​",
            "style": "IPY_MODEL_2e3eab851ba44b17a6dd5072453833d0",
            "value": " 190/190 [00:00&lt;00:00, 10.1kB/s]"
          }
        },
        "38c361b92ea94c6ba71fc8bfd8d82c87": {
          "model_module": "@jupyter-widgets/base",
          "model_name": "LayoutModel",
          "model_module_version": "1.2.0",
          "state": {
            "_model_module": "@jupyter-widgets/base",
            "_model_module_version": "1.2.0",
            "_model_name": "LayoutModel",
            "_view_count": null,
            "_view_module": "@jupyter-widgets/base",
            "_view_module_version": "1.2.0",
            "_view_name": "LayoutView",
            "align_content": null,
            "align_items": null,
            "align_self": null,
            "border": null,
            "bottom": null,
            "display": null,
            "flex": null,
            "flex_flow": null,
            "grid_area": null,
            "grid_auto_columns": null,
            "grid_auto_flow": null,
            "grid_auto_rows": null,
            "grid_column": null,
            "grid_gap": null,
            "grid_row": null,
            "grid_template_areas": null,
            "grid_template_columns": null,
            "grid_template_rows": null,
            "height": null,
            "justify_content": null,
            "justify_items": null,
            "left": null,
            "margin": null,
            "max_height": null,
            "max_width": null,
            "min_height": null,
            "min_width": null,
            "object_fit": null,
            "object_position": null,
            "order": null,
            "overflow": null,
            "overflow_x": null,
            "overflow_y": null,
            "padding": null,
            "right": null,
            "top": null,
            "visibility": null,
            "width": null
          }
        },
        "b5ebee50628642f9bd7e9c474ce09267": {
          "model_module": "@jupyter-widgets/base",
          "model_name": "LayoutModel",
          "model_module_version": "1.2.0",
          "state": {
            "_model_module": "@jupyter-widgets/base",
            "_model_module_version": "1.2.0",
            "_model_name": "LayoutModel",
            "_view_count": null,
            "_view_module": "@jupyter-widgets/base",
            "_view_module_version": "1.2.0",
            "_view_name": "LayoutView",
            "align_content": null,
            "align_items": null,
            "align_self": null,
            "border": null,
            "bottom": null,
            "display": null,
            "flex": null,
            "flex_flow": null,
            "grid_area": null,
            "grid_auto_columns": null,
            "grid_auto_flow": null,
            "grid_auto_rows": null,
            "grid_column": null,
            "grid_gap": null,
            "grid_row": null,
            "grid_template_areas": null,
            "grid_template_columns": null,
            "grid_template_rows": null,
            "height": null,
            "justify_content": null,
            "justify_items": null,
            "left": null,
            "margin": null,
            "max_height": null,
            "max_width": null,
            "min_height": null,
            "min_width": null,
            "object_fit": null,
            "object_position": null,
            "order": null,
            "overflow": null,
            "overflow_x": null,
            "overflow_y": null,
            "padding": null,
            "right": null,
            "top": null,
            "visibility": null,
            "width": null
          }
        },
        "90f9d45e98be423180ad3f09d9bf0059": {
          "model_module": "@jupyter-widgets/controls",
          "model_name": "DescriptionStyleModel",
          "model_module_version": "1.5.0",
          "state": {
            "_model_module": "@jupyter-widgets/controls",
            "_model_module_version": "1.5.0",
            "_model_name": "DescriptionStyleModel",
            "_view_count": null,
            "_view_module": "@jupyter-widgets/base",
            "_view_module_version": "1.2.0",
            "_view_name": "StyleView",
            "description_width": ""
          }
        },
        "da058ace52644f98b5cfb3b30879a3a2": {
          "model_module": "@jupyter-widgets/base",
          "model_name": "LayoutModel",
          "model_module_version": "1.2.0",
          "state": {
            "_model_module": "@jupyter-widgets/base",
            "_model_module_version": "1.2.0",
            "_model_name": "LayoutModel",
            "_view_count": null,
            "_view_module": "@jupyter-widgets/base",
            "_view_module_version": "1.2.0",
            "_view_name": "LayoutView",
            "align_content": null,
            "align_items": null,
            "align_self": null,
            "border": null,
            "bottom": null,
            "display": null,
            "flex": null,
            "flex_flow": null,
            "grid_area": null,
            "grid_auto_columns": null,
            "grid_auto_flow": null,
            "grid_auto_rows": null,
            "grid_column": null,
            "grid_gap": null,
            "grid_row": null,
            "grid_template_areas": null,
            "grid_template_columns": null,
            "grid_template_rows": null,
            "height": null,
            "justify_content": null,
            "justify_items": null,
            "left": null,
            "margin": null,
            "max_height": null,
            "max_width": null,
            "min_height": null,
            "min_width": null,
            "object_fit": null,
            "object_position": null,
            "order": null,
            "overflow": null,
            "overflow_x": null,
            "overflow_y": null,
            "padding": null,
            "right": null,
            "top": null,
            "visibility": null,
            "width": null
          }
        },
        "456df5f5866b4866ac95b00ee183c75d": {
          "model_module": "@jupyter-widgets/controls",
          "model_name": "ProgressStyleModel",
          "model_module_version": "1.5.0",
          "state": {
            "_model_module": "@jupyter-widgets/controls",
            "_model_module_version": "1.5.0",
            "_model_name": "ProgressStyleModel",
            "_view_count": null,
            "_view_module": "@jupyter-widgets/base",
            "_view_module_version": "1.2.0",
            "_view_name": "StyleView",
            "bar_color": null,
            "description_width": ""
          }
        },
        "2507982eefbe49d985c03409a1476711": {
          "model_module": "@jupyter-widgets/base",
          "model_name": "LayoutModel",
          "model_module_version": "1.2.0",
          "state": {
            "_model_module": "@jupyter-widgets/base",
            "_model_module_version": "1.2.0",
            "_model_name": "LayoutModel",
            "_view_count": null,
            "_view_module": "@jupyter-widgets/base",
            "_view_module_version": "1.2.0",
            "_view_name": "LayoutView",
            "align_content": null,
            "align_items": null,
            "align_self": null,
            "border": null,
            "bottom": null,
            "display": null,
            "flex": null,
            "flex_flow": null,
            "grid_area": null,
            "grid_auto_columns": null,
            "grid_auto_flow": null,
            "grid_auto_rows": null,
            "grid_column": null,
            "grid_gap": null,
            "grid_row": null,
            "grid_template_areas": null,
            "grid_template_columns": null,
            "grid_template_rows": null,
            "height": null,
            "justify_content": null,
            "justify_items": null,
            "left": null,
            "margin": null,
            "max_height": null,
            "max_width": null,
            "min_height": null,
            "min_width": null,
            "object_fit": null,
            "object_position": null,
            "order": null,
            "overflow": null,
            "overflow_x": null,
            "overflow_y": null,
            "padding": null,
            "right": null,
            "top": null,
            "visibility": null,
            "width": null
          }
        },
        "2e3eab851ba44b17a6dd5072453833d0": {
          "model_module": "@jupyter-widgets/controls",
          "model_name": "DescriptionStyleModel",
          "model_module_version": "1.5.0",
          "state": {
            "_model_module": "@jupyter-widgets/controls",
            "_model_module_version": "1.5.0",
            "_model_name": "DescriptionStyleModel",
            "_view_count": null,
            "_view_module": "@jupyter-widgets/base",
            "_view_module_version": "1.2.0",
            "_view_name": "StyleView",
            "description_width": ""
          }
        }
      }
    }
  },
  "nbformat": 4,
  "nbformat_minor": 0
}